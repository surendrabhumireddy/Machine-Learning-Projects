{
 "cells": [
  {
   "attachments": {
    "image.png": {
     "image/png": "[encoded data removed]"
    }
   },
   "cell_type": "markdown",
   "id": "c3894dbc",
   "metadata": {},
   "source": [
    "![image.png](attachment:image.png)"
   ]
  },
  {
   "cell_type": "markdown",
   "id": "332b5311",
   "metadata": {},
   "source": [
    "## Importing Libraries"
   ]
  },
  {
   "cell_type": "code",
   "execution_count": 1,
   "id": "1029b32d",
   "metadata": {},
   "outputs": [],
   "source": [
    "import numpy as np\n",
    "import pandas as pd\n",
    "import matplotlib.pyplot as plt\n",
    "import seaborn as sns\n",
    "%matplotlib inline\n",
    "sns.set()\n",
    "import warnings\n",
    "warnings.filterwarnings('ignore')"
   ]
  },
  {
   "cell_type": "markdown",
   "id": "418e598d",
   "metadata": {},
   "source": [
    "## Loading and Reading Dataset"
   ]
  },
  {
   "cell_type": "code",
   "execution_count": 2,
   "id": "a38f4293",
   "metadata": {},
   "outputs": [],
   "source": [
    "df=pd.read_csv('IMDb Movies India.csv')"
   ]
  },
  {
   "cell_type": "code",
   "execution_count": 3,
   "id": "5643d527",
   "metadata": {},
   "outputs": [
    {
     "data": {
      "text/html": [
       "<div>\n",
       "<style scoped>\n",
       "    .dataframe tbody tr th:only-of-type {\n",
       "        vertical-align: middle;\n",
       "    }\n",
       "\n",
       "    .dataframe tbody tr th {\n",
       "        vertical-align: top;\n",
       "    }\n",
       "\n",
       "    .dataframe thead th {\n",
       "        text-align: right;\n",
       "    }\n",
       "</style>\n",
       "<table border=\"1\" class=\"dataframe\">\n",
       "  <thead>\n",
       "    <tr style=\"text-align: right;\">\n",
       "      <th></th>\n",
       "      <th>Name</th>\n",
       "      <th>Year</th>\n",
       "      <th>Duration</th>\n",
       "      <th>Genre</th>\n",
       "      <th>Rating</th>\n",
       "      <th>Votes</th>\n",
       "      <th>Director</th>\n",
       "      <th>Actor 1</th>\n",
       "      <th>Actor 2</th>\n",
       "      <th>Actor 3</th>\n",
       "    </tr>\n",
       "  </thead>\n",
       "  <tbody>\n",
       "    <tr>\n",
       "      <th>0</th>\n",
       "      <td></td>\n",
       "      <td>NaN</td>\n",
       "      <td>NaN</td>\n",
       "      <td>Drama</td>\n",
       "      <td>NaN</td>\n",
       "      <td>NaN</td>\n",
       "      <td>J.S. Randhawa</td>\n",
       "      <td>Manmauji</td>\n",
       "      <td>Birbal</td>\n",
       "      <td>Rajendra Bhatia</td>\n",
       "    </tr>\n",
       "    <tr>\n",
       "      <th>1</th>\n",
       "      <td>#Gadhvi (He thought he was Gandhi)</td>\n",
       "      <td>-2019.0</td>\n",
       "      <td>109 min</td>\n",
       "      <td>Drama</td>\n",
       "      <td>7.0</td>\n",
       "      <td>8</td>\n",
       "      <td>Gaurav Bakshi</td>\n",
       "      <td>Rasika Dugal</td>\n",
       "      <td>Vivek Ghamande</td>\n",
       "      <td>Arvind Jangid</td>\n",
       "    </tr>\n",
       "    <tr>\n",
       "      <th>2</th>\n",
       "      <td>#Homecoming</td>\n",
       "      <td>-2021.0</td>\n",
       "      <td>90 min</td>\n",
       "      <td>Drama, Musical</td>\n",
       "      <td>NaN</td>\n",
       "      <td>NaN</td>\n",
       "      <td>Soumyajit Majumdar</td>\n",
       "      <td>Sayani Gupta</td>\n",
       "      <td>Plabita Borthakur</td>\n",
       "      <td>Roy Angana</td>\n",
       "    </tr>\n",
       "    <tr>\n",
       "      <th>3</th>\n",
       "      <td>#Yaaram</td>\n",
       "      <td>-2019.0</td>\n",
       "      <td>110 min</td>\n",
       "      <td>Comedy, Romance</td>\n",
       "      <td>4.4</td>\n",
       "      <td>35</td>\n",
       "      <td>Ovais Khan</td>\n",
       "      <td>Prateik</td>\n",
       "      <td>Ishita Raj</td>\n",
       "      <td>Siddhant Kapoor</td>\n",
       "    </tr>\n",
       "    <tr>\n",
       "      <th>4</th>\n",
       "      <td>...And Once Again</td>\n",
       "      <td>-2010.0</td>\n",
       "      <td>105 min</td>\n",
       "      <td>Drama</td>\n",
       "      <td>NaN</td>\n",
       "      <td>NaN</td>\n",
       "      <td>Amol Palekar</td>\n",
       "      <td>Rajat Kapoor</td>\n",
       "      <td>Rituparna Sengupta</td>\n",
       "      <td>Antara Mali</td>\n",
       "    </tr>\n",
       "    <tr>\n",
       "      <th>...</th>\n",
       "      <td>...</td>\n",
       "      <td>...</td>\n",
       "      <td>...</td>\n",
       "      <td>...</td>\n",
       "      <td>...</td>\n",
       "      <td>...</td>\n",
       "      <td>...</td>\n",
       "      <td>...</td>\n",
       "      <td>...</td>\n",
       "      <td>...</td>\n",
       "    </tr>\n",
       "    <tr>\n",
       "      <th>15504</th>\n",
       "      <td>Zulm Ko Jala Doonga</td>\n",
       "      <td>-1988.0</td>\n",
       "      <td>NaN</td>\n",
       "      <td>Action</td>\n",
       "      <td>4.6</td>\n",
       "      <td>11</td>\n",
       "      <td>Mahendra Shah</td>\n",
       "      <td>Naseeruddin Shah</td>\n",
       "      <td>Sumeet Saigal</td>\n",
       "      <td>Suparna Anand</td>\n",
       "    </tr>\n",
       "    <tr>\n",
       "      <th>15505</th>\n",
       "      <td>Zulmi</td>\n",
       "      <td>-1999.0</td>\n",
       "      <td>129 min</td>\n",
       "      <td>Action, Drama</td>\n",
       "      <td>4.5</td>\n",
       "      <td>655</td>\n",
       "      <td>Kuku Kohli</td>\n",
       "      <td>Akshay Kumar</td>\n",
       "      <td>Twinkle Khanna</td>\n",
       "      <td>Aruna Irani</td>\n",
       "    </tr>\n",
       "    <tr>\n",
       "      <th>15506</th>\n",
       "      <td>Zulmi Raj</td>\n",
       "      <td>-2005.0</td>\n",
       "      <td>NaN</td>\n",
       "      <td>Action</td>\n",
       "      <td>NaN</td>\n",
       "      <td>NaN</td>\n",
       "      <td>Kiran Thej</td>\n",
       "      <td>Sangeeta Tiwari</td>\n",
       "      <td>NaN</td>\n",
       "      <td>NaN</td>\n",
       "    </tr>\n",
       "    <tr>\n",
       "      <th>15507</th>\n",
       "      <td>Zulmi Shikari</td>\n",
       "      <td>-1988.0</td>\n",
       "      <td>NaN</td>\n",
       "      <td>Action</td>\n",
       "      <td>NaN</td>\n",
       "      <td>NaN</td>\n",
       "      <td>NaN</td>\n",
       "      <td>NaN</td>\n",
       "      <td>NaN</td>\n",
       "      <td>NaN</td>\n",
       "    </tr>\n",
       "    <tr>\n",
       "      <th>15508</th>\n",
       "      <td>Zulm-O-Sitam</td>\n",
       "      <td>-1998.0</td>\n",
       "      <td>130 min</td>\n",
       "      <td>Action, Drama</td>\n",
       "      <td>6.2</td>\n",
       "      <td>20</td>\n",
       "      <td>K.C. Bokadia</td>\n",
       "      <td>Dharmendra</td>\n",
       "      <td>Jaya Prada</td>\n",
       "      <td>Arjun Sarja</td>\n",
       "    </tr>\n",
       "  </tbody>\n",
       "</table>\n",
       "<p>15509 rows × 10 columns</p>\n",
       "</div>"
      ],
      "text/plain": [
       "                                     Name    Year Duration            Genre  \\\n",
       "0                                             NaN      NaN            Drama   \n",
       "1      #Gadhvi (He thought he was Gandhi) -2019.0  109 min            Drama   \n",
       "2                             #Homecoming -2021.0   90 min   Drama, Musical   \n",
       "3                                 #Yaaram -2019.0  110 min  Comedy, Romance   \n",
       "4                       ...And Once Again -2010.0  105 min            Drama   \n",
       "...                                   ...     ...      ...              ...   \n",
       "15504                 Zulm Ko Jala Doonga -1988.0      NaN           Action   \n",
       "15505                               Zulmi -1999.0  129 min    Action, Drama   \n",
       "15506                           Zulmi Raj -2005.0      NaN           Action   \n",
       "15507                       Zulmi Shikari -1988.0      NaN           Action   \n",
       "15508                        Zulm-O-Sitam -1998.0  130 min    Action, Drama   \n",
       "\n",
       "       Rating Votes            Director           Actor 1             Actor 2  \\\n",
       "0         NaN   NaN       J.S. Randhawa          Manmauji              Birbal   \n",
       "1         7.0     8       Gaurav Bakshi      Rasika Dugal      Vivek Ghamande   \n",
       "2         NaN   NaN  Soumyajit Majumdar      Sayani Gupta   Plabita Borthakur   \n",
       "3         4.4    35          Ovais Khan           Prateik          Ishita Raj   \n",
       "4         NaN   NaN        Amol Palekar      Rajat Kapoor  Rituparna Sengupta   \n",
       "...       ...   ...                 ...               ...                 ...   \n",
       "15504     4.6    11       Mahendra Shah  Naseeruddin Shah       Sumeet Saigal   \n",
       "15505     4.5   655          Kuku Kohli      Akshay Kumar      Twinkle Khanna   \n",
       "15506     NaN   NaN          Kiran Thej   Sangeeta Tiwari                 NaN   \n",
       "15507     NaN   NaN                 NaN               NaN                 NaN   \n",
       "15508     6.2    20        K.C. Bokadia        Dharmendra          Jaya Prada   \n",
       "\n",
       "               Actor 3  \n",
       "0      Rajendra Bhatia  \n",
       "1        Arvind Jangid  \n",
       "2           Roy Angana  \n",
       "3      Siddhant Kapoor  \n",
       "4          Antara Mali  \n",
       "...                ...  \n",
       "15504    Suparna Anand  \n",
       "15505      Aruna Irani  \n",
       "15506              NaN  \n",
       "15507              NaN  \n",
       "15508      Arjun Sarja  \n",
       "\n",
       "[15509 rows x 10 columns]"
      ]
     },
     "execution_count": 3,
     "metadata": {},
     "output_type": "execute_result"
    }
   ],
   "source": [
    "df"
   ]
  },
  {
   "cell_type": "code",
   "execution_count": 4,
   "id": "8cdfd611",
   "metadata": {},
   "outputs": [
    {
     "data": {
      "text/html": [
       "<div>\n",
       "<style scoped>\n",
       "    .dataframe tbody tr th:only-of-type {\n",
       "        vertical-align: middle;\n",
       "    }\n",
       "\n",
       "    .dataframe tbody tr th {\n",
       "        vertical-align: top;\n",
       "    }\n",
       "\n",
       "    .dataframe thead th {\n",
       "        text-align: right;\n",
       "    }\n",
       "</style>\n",
       "<table border=\"1\" class=\"dataframe\">\n",
       "  <thead>\n",
       "    <tr style=\"text-align: right;\">\n",
       "      <th></th>\n",
       "      <th>Name</th>\n",
       "      <th>Year</th>\n",
       "      <th>Duration</th>\n",
       "      <th>Genre</th>\n",
       "      <th>Rating</th>\n",
       "      <th>Votes</th>\n",
       "      <th>Director</th>\n",
       "      <th>Actor 1</th>\n",
       "      <th>Actor 2</th>\n",
       "      <th>Actor 3</th>\n",
       "    </tr>\n",
       "  </thead>\n",
       "  <tbody>\n",
       "    <tr>\n",
       "      <th>0</th>\n",
       "      <td></td>\n",
       "      <td>NaN</td>\n",
       "      <td>NaN</td>\n",
       "      <td>Drama</td>\n",
       "      <td>NaN</td>\n",
       "      <td>NaN</td>\n",
       "      <td>J.S. Randhawa</td>\n",
       "      <td>Manmauji</td>\n",
       "      <td>Birbal</td>\n",
       "      <td>Rajendra Bhatia</td>\n",
       "    </tr>\n",
       "    <tr>\n",
       "      <th>1</th>\n",
       "      <td>#Gadhvi (He thought he was Gandhi)</td>\n",
       "      <td>-2019.0</td>\n",
       "      <td>109 min</td>\n",
       "      <td>Drama</td>\n",
       "      <td>7.0</td>\n",
       "      <td>8</td>\n",
       "      <td>Gaurav Bakshi</td>\n",
       "      <td>Rasika Dugal</td>\n",
       "      <td>Vivek Ghamande</td>\n",
       "      <td>Arvind Jangid</td>\n",
       "    </tr>\n",
       "    <tr>\n",
       "      <th>2</th>\n",
       "      <td>#Homecoming</td>\n",
       "      <td>-2021.0</td>\n",
       "      <td>90 min</td>\n",
       "      <td>Drama, Musical</td>\n",
       "      <td>NaN</td>\n",
       "      <td>NaN</td>\n",
       "      <td>Soumyajit Majumdar</td>\n",
       "      <td>Sayani Gupta</td>\n",
       "      <td>Plabita Borthakur</td>\n",
       "      <td>Roy Angana</td>\n",
       "    </tr>\n",
       "    <tr>\n",
       "      <th>3</th>\n",
       "      <td>#Yaaram</td>\n",
       "      <td>-2019.0</td>\n",
       "      <td>110 min</td>\n",
       "      <td>Comedy, Romance</td>\n",
       "      <td>4.4</td>\n",
       "      <td>35</td>\n",
       "      <td>Ovais Khan</td>\n",
       "      <td>Prateik</td>\n",
       "      <td>Ishita Raj</td>\n",
       "      <td>Siddhant Kapoor</td>\n",
       "    </tr>\n",
       "    <tr>\n",
       "      <th>4</th>\n",
       "      <td>...And Once Again</td>\n",
       "      <td>-2010.0</td>\n",
       "      <td>105 min</td>\n",
       "      <td>Drama</td>\n",
       "      <td>NaN</td>\n",
       "      <td>NaN</td>\n",
       "      <td>Amol Palekar</td>\n",
       "      <td>Rajat Kapoor</td>\n",
       "      <td>Rituparna Sengupta</td>\n",
       "      <td>Antara Mali</td>\n",
       "    </tr>\n",
       "  </tbody>\n",
       "</table>\n",
       "</div>"
      ],
      "text/plain": [
       "                                 Name    Year Duration            Genre  \\\n",
       "0                                         NaN      NaN            Drama   \n",
       "1  #Gadhvi (He thought he was Gandhi) -2019.0  109 min            Drama   \n",
       "2                         #Homecoming -2021.0   90 min   Drama, Musical   \n",
       "3                             #Yaaram -2019.0  110 min  Comedy, Romance   \n",
       "4                   ...And Once Again -2010.0  105 min            Drama   \n",
       "\n",
       "   Rating Votes            Director       Actor 1             Actor 2  \\\n",
       "0     NaN   NaN       J.S. Randhawa      Manmauji              Birbal   \n",
       "1     7.0     8       Gaurav Bakshi  Rasika Dugal      Vivek Ghamande   \n",
       "2     NaN   NaN  Soumyajit Majumdar  Sayani Gupta   Plabita Borthakur   \n",
       "3     4.4    35          Ovais Khan       Prateik          Ishita Raj   \n",
       "4     NaN   NaN        Amol Palekar  Rajat Kapoor  Rituparna Sengupta   \n",
       "\n",
       "           Actor 3  \n",
       "0  Rajendra Bhatia  \n",
       "1    Arvind Jangid  \n",
       "2       Roy Angana  \n",
       "3  Siddhant Kapoor  \n",
       "4      Antara Mali  "
      ]
     },
     "execution_count": 4,
     "metadata": {},
     "output_type": "execute_result"
    }
   ],
   "source": [
    "df.head()"
   ]
  },
  {
   "cell_type": "code",
   "execution_count": 5,
   "id": "c0c37eca",
   "metadata": {},
   "outputs": [
    {
     "data": {
      "text/html": [
       "<div>\n",
       "<style scoped>\n",
       "    .dataframe tbody tr th:only-of-type {\n",
       "        vertical-align: middle;\n",
       "    }\n",
       "\n",
       "    .dataframe tbody tr th {\n",
       "        vertical-align: top;\n",
       "    }\n",
       "\n",
       "    .dataframe thead th {\n",
       "        text-align: right;\n",
       "    }\n",
       "</style>\n",
       "<table border=\"1\" class=\"dataframe\">\n",
       "  <thead>\n",
       "    <tr style=\"text-align: right;\">\n",
       "      <th></th>\n",
       "      <th>Name</th>\n",
       "      <th>Year</th>\n",
       "      <th>Duration</th>\n",
       "      <th>Genre</th>\n",
       "      <th>Rating</th>\n",
       "      <th>Votes</th>\n",
       "      <th>Director</th>\n",
       "      <th>Actor 1</th>\n",
       "      <th>Actor 2</th>\n",
       "      <th>Actor 3</th>\n",
       "    </tr>\n",
       "  </thead>\n",
       "  <tbody>\n",
       "    <tr>\n",
       "      <th>15504</th>\n",
       "      <td>Zulm Ko Jala Doonga</td>\n",
       "      <td>-1988.0</td>\n",
       "      <td>NaN</td>\n",
       "      <td>Action</td>\n",
       "      <td>4.6</td>\n",
       "      <td>11</td>\n",
       "      <td>Mahendra Shah</td>\n",
       "      <td>Naseeruddin Shah</td>\n",
       "      <td>Sumeet Saigal</td>\n",
       "      <td>Suparna Anand</td>\n",
       "    </tr>\n",
       "    <tr>\n",
       "      <th>15505</th>\n",
       "      <td>Zulmi</td>\n",
       "      <td>-1999.0</td>\n",
       "      <td>129 min</td>\n",
       "      <td>Action, Drama</td>\n",
       "      <td>4.5</td>\n",
       "      <td>655</td>\n",
       "      <td>Kuku Kohli</td>\n",
       "      <td>Akshay Kumar</td>\n",
       "      <td>Twinkle Khanna</td>\n",
       "      <td>Aruna Irani</td>\n",
       "    </tr>\n",
       "    <tr>\n",
       "      <th>15506</th>\n",
       "      <td>Zulmi Raj</td>\n",
       "      <td>-2005.0</td>\n",
       "      <td>NaN</td>\n",
       "      <td>Action</td>\n",
       "      <td>NaN</td>\n",
       "      <td>NaN</td>\n",
       "      <td>Kiran Thej</td>\n",
       "      <td>Sangeeta Tiwari</td>\n",
       "      <td>NaN</td>\n",
       "      <td>NaN</td>\n",
       "    </tr>\n",
       "    <tr>\n",
       "      <th>15507</th>\n",
       "      <td>Zulmi Shikari</td>\n",
       "      <td>-1988.0</td>\n",
       "      <td>NaN</td>\n",
       "      <td>Action</td>\n",
       "      <td>NaN</td>\n",
       "      <td>NaN</td>\n",
       "      <td>NaN</td>\n",
       "      <td>NaN</td>\n",
       "      <td>NaN</td>\n",
       "      <td>NaN</td>\n",
       "    </tr>\n",
       "    <tr>\n",
       "      <th>15508</th>\n",
       "      <td>Zulm-O-Sitam</td>\n",
       "      <td>-1998.0</td>\n",
       "      <td>130 min</td>\n",
       "      <td>Action, Drama</td>\n",
       "      <td>6.2</td>\n",
       "      <td>20</td>\n",
       "      <td>K.C. Bokadia</td>\n",
       "      <td>Dharmendra</td>\n",
       "      <td>Jaya Prada</td>\n",
       "      <td>Arjun Sarja</td>\n",
       "    </tr>\n",
       "  </tbody>\n",
       "</table>\n",
       "</div>"
      ],
      "text/plain": [
       "                      Name    Year Duration          Genre  Rating Votes  \\\n",
       "15504  Zulm Ko Jala Doonga -1988.0      NaN         Action     4.6    11   \n",
       "15505                Zulmi -1999.0  129 min  Action, Drama     4.5   655   \n",
       "15506            Zulmi Raj -2005.0      NaN         Action     NaN   NaN   \n",
       "15507        Zulmi Shikari -1988.0      NaN         Action     NaN   NaN   \n",
       "15508         Zulm-O-Sitam -1998.0  130 min  Action, Drama     6.2    20   \n",
       "\n",
       "            Director           Actor 1         Actor 2        Actor 3  \n",
       "15504  Mahendra Shah  Naseeruddin Shah   Sumeet Saigal  Suparna Anand  \n",
       "15505     Kuku Kohli      Akshay Kumar  Twinkle Khanna    Aruna Irani  \n",
       "15506     Kiran Thej   Sangeeta Tiwari             NaN            NaN  \n",
       "15507            NaN               NaN             NaN            NaN  \n",
       "15508   K.C. Bokadia        Dharmendra      Jaya Prada    Arjun Sarja  "
      ]
     },
     "execution_count": 5,
     "metadata": {},
     "output_type": "execute_result"
    }
   ],
   "source": [
    "df.tail()"
   ]
  },
  {
   "cell_type": "markdown",
   "id": "47fed0b7",
   "metadata": {},
   "source": [
    "## finding unique values"
   ]
  },
  {
   "cell_type": "code",
   "execution_count": 6,
   "id": "69a900d3",
   "metadata": {},
   "outputs": [
    {
     "name": "stdout",
     "output_type": "stream",
     "text": [
      "===========================================================================\n",
      "                          Name\n",
      "===========================================================================\n",
      "[' ' '#Gadhvi (He thought he was Gandhi)' '#Homecoming' ... 'Zulmi Raj'\n",
      " 'Zulmi Shikari' 'Zulm-O-Sitam']\n",
      "===========================================================================\n",
      "                          Year\n",
      "===========================================================================\n",
      "[   nan -2019. -2021. -2010. -1997. -2005. -2008. -2012. -2014. -2004.\n",
      " -2016. -1991. -1990. -2018. -1987. -1948. -1958. -2017. -2020. -2009.\n",
      " -2002. -1993. -1946. -1994. -2007. -2013. -2003. -1998. -1979. -1951.\n",
      " -1956. -1974. -2015. -2006. -1981. -1985. -2011. -2001. -1967. -1988.\n",
      " -1995. -1959. -1996. -1970. -1976. -2000. -1999. -1973. -1968. -1943.\n",
      " -1953. -1986. -1983. -1989. -1982. -1977. -1957. -1950. -1992. -1969.\n",
      " -1975. -1947. -1972. -1971. -1935. -1978. -1960. -1944. -1963. -1940.\n",
      " -1984. -1934. -1955. -1936. -1980. -1966. -1949. -1962. -1964. -1952.\n",
      " -1933. -1942. -1939. -1954. -1945. -1961. -1965. -1938. -1941. -1931.\n",
      " -1937. -2022. -1932. -1923. -1915. -1928. -1922. -1917. -1913. -1930.\n",
      " -1926. -1914. -1924.]\n",
      "===========================================================================\n",
      "                          Duration\n",
      "===========================================================================\n",
      "[nan '109 min' '90 min' '110 min' '105 min' '147 min' '142 min' '59 min'\n",
      " '82 min' '116 min' '96 min' '120 min' '161 min' '166 min' '102 min'\n",
      " '87 min' '132 min' '66 min' '146 min' '112 min' '168 min' '158 min'\n",
      " '126 min' '94 min' '138 min' '124 min' '144 min' '157 min' '136 min'\n",
      " '107 min' '113 min' '80 min' '122 min' '149 min' '148 min' '130 min'\n",
      " '121 min' '188 min' '115 min' '103 min' '114 min' '170 min' '100 min'\n",
      " '99 min' '140 min' '128 min' '93 min' '125 min' '145 min' '75 min'\n",
      " '111 min' '134 min' '85 min' '104 min' '92 min' '137 min' '127 min'\n",
      " '150 min' '119 min' '135 min' '86 min' '76 min' '70 min' '72 min'\n",
      " '151 min' '95 min' '52 min' '89 min' '143 min' '177 min' '117 min'\n",
      " '123 min' '154 min' '88 min' '175 min' '153 min' '78 min' '139 min'\n",
      " '133 min' '101 min' '180 min' '60 min' '46 min' '164 min' '162 min'\n",
      " '171 min' '160 min' '152 min' '62 min' '163 min' '165 min' '141 min'\n",
      " '210 min' '129 min' '156 min' '240 min' '172 min' '155 min' '118 min'\n",
      " '167 min' '106 min' '193 min' '57 min' '108 min' '45 min' '195 min'\n",
      " '174 min' '81 min' '178 min' '58 min' '184 min' '97 min' '98 min'\n",
      " '131 min' '176 min' '169 min' '77 min' '91 min' '84 min' '173 min'\n",
      " '74 min' '67 min' '181 min' '300 min' '79 min' '65 min' '48 min'\n",
      " '183 min' '159 min' '83 min' '68 min' '49 min' '201 min' '64 min'\n",
      " '186 min' '50 min' '69 min' '207 min' '55 min' '61 min' '185 min'\n",
      " '187 min' '216 min' '63 min' '54 min' '198 min' '51 min' '71 min'\n",
      " '73 min' '218 min' '191 min' '321 min' '199 min' '53 min' '56 min'\n",
      " '179 min' '47 min' '206 min' '190 min' '211 min' '247 min' '213 min'\n",
      " '223 min' '2 min' '189 min' '224 min' '202 min' '255 min' '197 min'\n",
      " '182 min' '214 min' '208 min' '21 min' '200 min' '192 min' '37 min'\n",
      " '261 min' '238 min' '204 min' '235 min' '298 min' '217 min' '250 min']\n",
      "===========================================================================\n",
      "                          Genre\n",
      "===========================================================================\n",
      "['Drama' 'Drama, Musical' 'Comedy, Romance' 'Comedy, Drama, Musical'\n",
      " 'Drama, Romance, War' 'Documentary' 'Horror, Mystery, Thriller'\n",
      " 'Action, Crime, Thriller' 'Horror' 'Horror, Romance, Thriller'\n",
      " 'Comedy, Drama, Romance' 'Thriller' 'Comedy, Drama' nan\n",
      " 'Comedy, Drama, Fantasy' 'Comedy, Drama, Family' 'Crime, Drama, Mystery'\n",
      " 'Horror, Thriller' 'Biography' 'Comedy, Horror' 'Action'\n",
      " 'Drama, Horror, Mystery' 'Comedy' 'Action, Thriller' 'Drama, History'\n",
      " 'Drama, History, Sport' 'Horror, Mystery, Romance' 'Horror, Mystery'\n",
      " 'Drama, Horror, Romance' 'Action, Drama, History' 'Action, Drama, War'\n",
      " 'Comedy, Family' 'Adventure, Horror, Mystery' 'Action, Sci-Fi'\n",
      " 'Crime, Mystery, Thriller' 'War' 'Sport' 'Biography, Drama, History'\n",
      " 'Horror, Romance' 'Crime, Drama' 'Drama, Romance' 'Adventure, Drama'\n",
      " 'Comedy, Mystery, Thriller' 'Action, Crime, Drama' 'Crime, Thriller'\n",
      " 'Horror, Sci-Fi, Thriller' 'Crime, Drama, Thriller'\n",
      " 'Drama, Mystery, Thriller' 'Drama, Sport' 'Drama, Family, Musical'\n",
      " 'Action, Comedy' 'Comedy, Thriller' 'Action, Adventure, Fantasy'\n",
      " 'Drama, Romance, Thriller' 'Action, Drama' 'Drama, Horror, Musical'\n",
      " 'Action, Biography, Drama' 'Adventure, Comedy, Drama' 'Mystery'\n",
      " 'Action, Fantasy, Mystery' 'Adventure, Drama, Mystery'\n",
      " 'Mystery, Thriller' 'Adventure' 'Drama, Musical, Thriller'\n",
      " 'Comedy, Crime, Drama' 'Musical, Romance' 'Documentary, Music'\n",
      " 'Documentary, History, Music' 'Drama, Fantasy, Mystery'\n",
      " 'Drama, Family, Sport' 'Drama, Thriller' 'Documentary, Biography'\n",
      " 'Action, Adventure, Comedy' 'Romance' 'Comedy, Drama, Music'\n",
      " 'Comedy, Horror, Mystery' 'Musical' 'Musical, Romance, Drama'\n",
      " 'Family, Romance' 'Action, Sci-Fi, Thriller' 'Action, Drama, Romance'\n",
      " 'Mystery, Romance' 'Fantasy' 'Family' 'Drama, Family'\n",
      " 'Action, Comedy, Drama' 'Action, Drama, Thriller'\n",
      " 'Drama, Horror, Thriller' 'Drama, Musical, Romance' 'Comedy, Sci-Fi'\n",
      " 'Action, Romance' 'Action, Crime' 'Action, Drama, Crime'\n",
      " 'Drama, Family, Music' 'Action, Mystery, Thriller'\n",
      " 'Action, Drama, Family' 'Action, Mystery' 'Drama, History, Romance'\n",
      " 'Crime, Drama, Music' 'Sci-Fi' 'Animation' 'Crime, Mystery, Romance'\n",
      " 'Action, Adventure, Romance' 'Music, Romance' 'Action, Comedy, Crime'\n",
      " 'Comedy, Family, Fantasy' 'Romance, Drama' 'Drama, Family, Romance'\n",
      " 'Romance, Drama, Family' 'Musical, Romance, Thriller'\n",
      " 'Family, Musical, Romance' 'Action, Drama, Fantasy' 'Family, Drama'\n",
      " 'Crime, Drama, Romance' 'Musical, Drama, Romance' 'Drama, Music, Musical'\n",
      " 'Drama, Mystery' 'Adventure, Comedy, Romance' 'Crime, Drama, Horror'\n",
      " 'Family, Music, Musical' 'Action, Musical, Thriller'\n",
      " 'Action, Romance, Thriller' 'Romance, Thriller' 'Drama, Music'\n",
      " 'Crime, Drama, Musical' 'Action, Crime, Mystery'\n",
      " 'Action, Adventure, Thriller' 'Comedy, Romance, Sci-Fi' 'Crime'\n",
      " 'Action, Drama, Mystery' 'Action, Comedy, Thriller' 'Biography, Drama'\n",
      " 'Action, Comedy, Fantasy' 'Drama, Family, Horror'\n",
      " 'Action, Adventure, Family' 'Documentary, Biography, Musical'\n",
      " 'Action, Drama, Musical' 'Adventure, Thriller' 'Crime, Mystery'\n",
      " 'Drama, Crime' 'Drama, Fantasy, Romance' 'Comedy, Romance, Thriller'\n",
      " 'Musical, Comedy, Drama' 'Biography, History, War'\n",
      " 'Action, Comedy, Romance' 'Drama, History, Musical'\n",
      " 'Action, Crime, Horror' 'Adventure, Fantasy' 'Adventure, Drama, Fantasy'\n",
      " 'Adventure, Fantasy, Romance' 'Action, Adventure, Drama'\n",
      " 'Action, Adventure' 'Comedy, Crime' 'Crime, Drama, Fantasy'\n",
      " 'Adventure, Drama, Romance' 'History' 'Drama, Fantasy, Thriller'\n",
      " 'Musical, Fantasy' 'Documentary, Thriller' 'Mystery, Romance, Musical'\n",
      " 'Family, Drama, Romance' 'History, Musical, Romance'\n",
      " 'Musical, Drama, Crime' 'Adventure, Crime, Romance'\n",
      " 'Musical, Thriller, Mystery' 'Drama, Comedy' 'Biography, Drama, Romance'\n",
      " 'Biography, Music' 'Biography, Drama, Music' 'Drama, Sci-Fi'\n",
      " 'Drama, Family, Thriller' 'Comedy, Musical, Romance'\n",
      " 'Drama, Family, Comedy' 'Action, Thriller, Romance'\n",
      " 'Animation, Adventure' 'Action, Crime, Musical' 'Action, Crime, Romance'\n",
      " 'Animation, Action, Adventure' 'Action, Drama, Sport' 'Comedy, History'\n",
      " 'Documentary, History' 'Drama, Comedy, Family' 'Action, Adventure, Crime'\n",
      " 'Documentary, Biography, Music' 'Comedy, Musical'\n",
      " 'Biography, Crime, Thriller' 'Adventure, Mystery, Thriller'\n",
      " 'Biography, Drama, Sport' 'Action, Comedy, Musical'\n",
      " 'Mystery, Romance, Thriller' 'Action, Adventure, Musical'\n",
      " 'Crime, Musical, Mystery' 'Action, Thriller, Crime'\n",
      " 'Adventure, Comedy, Crime' 'Comedy, Horror, Musical' 'Adventure, Family'\n",
      " 'Family, Thriller' 'Drama, Action, Crime' 'Drama, War'\n",
      " 'Action, Drama, Adventure' 'Adventure, Fantasy, History'\n",
      " 'Fantasy, Musical' 'Comedy, Drama, Thriller' 'Drama, Fantasy'\n",
      " 'Musical, Drama' 'Action, Drama, Horror' 'Biography, Crime, Drama'\n",
      " 'Action, Drama, Music' 'Adventure, Drama, Family'\n",
      " 'Drama, Romance, Musical' 'Comedy, Musical, Drama'\n",
      " 'Adventure, Comedy, Musical' 'Crime, Drama, Family'\n",
      " 'Thriller, Musical, Mystery' 'Documentary, Adventure, Crime'\n",
      " 'Drama, Action, Horror' 'Adventure, Crime, Drama'\n",
      " 'Documentary, Biography, Sport' 'Crime, Fantasy, Mystery'\n",
      " 'Documentary, Biography, Drama' 'Action, Fantasy, Thriller'\n",
      " 'Adventure, Drama, History' 'Animation, Drama, History'\n",
      " 'Comedy, Horror, Thriller' 'Drama, Family, History' 'Animation, History'\n",
      " 'Biography, Drama, Musical' 'Music' 'Family, Comedy' 'Adventure, Mystery'\n",
      " 'Family, Fantasy' 'Documentary, History, News' 'Drama, Mystery, Romance'\n",
      " 'Comedy, Fantasy' 'Action, Crime, Family' 'Drama, Musical, Mystery'\n",
      " 'Action, Thriller, Mystery' 'Drama, Family, Fantasy' 'Action, Family'\n",
      " 'Action, Adventure, Mystery' 'Horror, Fantasy' 'Comedy, Action'\n",
      " 'Adventure, Romance' 'Drama, Adventure' 'Animation, Drama, Romance'\n",
      " 'Comedy, Crime, Romance' 'Adventure, Comedy' 'Comedy, Drama, Sport'\n",
      " 'Documentary, Crime, History' 'Musical, Mystery, Drama'\n",
      " 'Adventure, Drama, Sci-Fi' 'Action, Romance, Western'\n",
      " 'Comedy, Fantasy, Romance' 'Animation, Action, Comedy'\n",
      " 'Drama, Fantasy, Sci-Fi' 'Drama, Horror' 'Family, Drama, Comedy'\n",
      " 'Action, Adventure, History' 'Comedy, Family, Romance'\n",
      " 'Biography, History' 'Animation, Family' 'Drama, Fantasy, History'\n",
      " 'Animation, Adventure, Fantasy' 'Adventure, Comedy, Family'\n",
      " 'Drama, History, War' 'Animation, Drama, Fantasy'\n",
      " 'Action, Musical, Romance' 'Crime, Action, Drama'\n",
      " 'Comedy, Romance, Musical' 'Fantasy, Drama' 'Musical, Action, Crime'\n",
      " 'Documentary, Drama' 'Action, Horror, Thriller' 'Action, Horror, Sci-Fi'\n",
      " 'Mystery, Sci-Fi, Thriller' 'Biography, Family' 'Drama, Action, Comedy'\n",
      " 'Drama, Music, Romance' 'Action, Biography, Crime'\n",
      " 'Adventure, Drama, Musical' 'Family, Music, Romance'\n",
      " 'Fantasy, Mystery, Romance' 'Drama, Crime, Family'\n",
      " 'Drama, Family, Action' 'Romance, Comedy, Drama'\n",
      " 'Animation, Adventure, Comedy' 'Sci-Fi, Thriller'\n",
      " 'Romance, Family, Drama' 'Action, Family, Thriller'\n",
      " 'Adventure, Crime, Thriller' 'Drama, Romance, Sport'\n",
      " 'Comedy, Crime, Mystery' 'Adventure, Comedy, Mystery' 'Action, Fantasy'\n",
      " 'Comedy, Mystery' 'Animation, Adventure, Family'\n",
      " 'Adventure, Drama, Music' 'Biography, Drama, War'\n",
      " 'Documentary, Comedy, Drama' 'Musical, Drama, Family'\n",
      " 'Animation, Comedy, Drama' 'Fantasy, Musical, Drama'\n",
      " 'Adventure, Crime, Mystery' 'Comedy, Drama, Mystery' 'Documentary, News'\n",
      " 'Drama, Musical, Family' 'Action, Romance, Drama'\n",
      " 'Comedy, Crime, Thriller' 'Action, Musical' 'Action, History'\n",
      " 'Action, Comedy, Mystery' 'Drama, Family, Mystery'\n",
      " 'Adventure, Drama, Thriller' 'Documentary, Reality-TV'\n",
      " 'Action, Fantasy, Horror' 'Drama, History, Thriller'\n",
      " 'Documentary, Family' 'Documentary, Biography, Family' 'Comedy, Sport'\n",
      " 'Animation, Comedy, Family' 'Crime, Romance, Thriller'\n",
      " 'Comedy, Musical, Action' 'Action, Mystery, Sci-Fi'\n",
      " 'Comedy, Crime, Musical' 'Drama, Adventure, Action' 'History, Romance'\n",
      " 'Reality-TV' 'Fantasy, History' 'Family, Drama, Thriller'\n",
      " 'Musical, Mystery, Thriller' 'Musical, Comedy, Romance'\n",
      " 'Musical, Action, Drama' 'Action, Musical, War' 'Romance, Comedy'\n",
      " 'Horror, Crime, Thriller' 'Crime, Drama, History' 'Comedy, Drama, Horror'\n",
      " 'Crime, Horror, Thriller' 'Animation, Comedy' 'Romance, Action, Crime'\n",
      " 'Musical, Thriller' 'Action, Romance, Comedy' 'Comedy, Family, Musical'\n",
      " 'Horror, Drama, Mystery' 'Thriller, Mystery, Family'\n",
      " 'Comedy, Drama, Sci-Fi' 'Documentary, Adventure'\n",
      " 'Documentary, Biography, Crime' 'Musical, Action' 'Musical, Mystery'\n",
      " 'Action, Crime, Sci-Fi' 'Action, Horror, Mystery' 'Fantasy, Horror'\n",
      " 'Adventure, Family, Fantasy' 'Fantasy, Sci-Fi' 'Comedy, War'\n",
      " 'Romance, Action, Drama' 'Musical, Family, Romance'\n",
      " 'Romance, Drama, Action' 'Family, Comedy, Drama' 'Comedy, Music, Romance'\n",
      " 'Comedy, Family, Sci-Fi' 'Action, Drama, Western'\n",
      " 'Adventure, Romance, Thriller' 'Biography, Comedy, Drama'\n",
      " 'Action, Mystery, Romance' 'Romance, Sport' 'Crime, Romance'\n",
      " 'Action, Thriller, Western' 'Crime, Musical, Romance'\n",
      " 'Romance, Thriller, Mystery' 'Drama, Crime, Mystery'\n",
      " 'Biography, Drama, Family' 'Action, Family, Mystery'\n",
      " 'Comedy, Mystery, Romance' 'Drama, Thriller, Action' 'Documentary, Short'\n",
      " 'Documentary, Western' 'Musical, Family, Drama' 'Action, Family, Musical'\n",
      " 'Animation, Family, Musical' 'Drama, Fantasy, Horror'\n",
      " 'Action, Adventure, Sci-Fi' 'Drama, Action, Musical'\n",
      " 'Drama, Musical, Sport' 'Action, Comedy, Horror'\n",
      " 'Drama, Fantasy, Musical' 'Action, Fantasy, Musical' 'Animation, Action'\n",
      " 'Comedy, Music' 'Documentary, Drama, Romance' 'Drama, Music, Thriller'\n",
      " 'Fantasy, Musical, Mystery' 'Drama, Fantasy, War' 'Action, War'\n",
      " 'Action, Adventure, War' 'Horror, Musical' 'Fantasy, Mystery, Thriller'\n",
      " 'Adventure, Biography, Drama' 'Family, Romance, Sci-Fi'\n",
      " 'Drama, Romance, Family' 'Animation, Adventure, Drama'\n",
      " 'Family, Romance, Drama' 'Animation, Action, Sci-Fi'\n",
      " 'Adventure, Comedy, Fantasy' 'Comedy, Crime, Family'\n",
      " 'Horror, Musical, Thriller' 'Biography, Drama, Thriller' 'Drama, Western'\n",
      " 'Romance, Sci-Fi, Thriller' 'Comedy, Musical, Family'\n",
      " 'Comedy, Horror, Romance' 'Thriller, Action' 'Fantasy, Thriller, Action'\n",
      " 'Fantasy, Romance' 'Action, Drama, Comedy' 'Family, Fantasy, Romance'\n",
      " 'Comedy, Crime, Horror' 'Horror, Mystery, Sci-Fi'\n",
      " 'Animation, Action, Drama' 'Family, Mystery'\n",
      " 'Adventure, Biography, History' 'Fantasy, Horror, Mystery'\n",
      " 'Family, Musical' 'Drama, Family, Adventure' 'Crime, Horror, Mystery'\n",
      " 'Documentary, Drama, Fantasy' 'Action, Adventure, Biography'\n",
      " 'Biography, History, Thriller' 'Action, Family, Drama'\n",
      " 'Documentary, Drama, Sport' 'Thriller, Mystery' 'Musical, Drama, Comedy'\n",
      " 'Documentary, History, War' 'Adventure, Horror, Thriller'\n",
      " 'Action, Adventure, Horror' 'Action, Crime, War'\n",
      " 'Adventure, Musical, Romance' 'Action, Fantasy, Sci-Fi'\n",
      " 'Drama, Comedy, Action' 'Documentary, Sport'\n",
      " 'Documentary, Adventure, Music' 'Drama, Action, Family'\n",
      " 'Adventure, History, Thriller' 'Adventure, Horror, Romance'\n",
      " 'Adventure, Crime, Horror' 'Mystery, Musical, Romance'\n",
      " 'Action, Crime, History' 'Documentary, Musical'\n",
      " 'Adventure, Fantasy, Musical' 'Documentary, Family, History'\n",
      " 'Documentary, Drama, Family' 'Drama, Mystery, Sci-Fi'\n",
      " 'Animation, Drama, Musical' 'Drama, History, Mystery'\n",
      " 'Drama, Sport, Thriller' 'Action, Crime, Fantasy'\n",
      " 'Comedy, Musical, Mystery' 'Romance, Musical, Action'\n",
      " 'Musical, Drama, Fantasy' 'Animation, Family, History'\n",
      " 'Action, Drama, News' 'Romance, Musical, Comedy'\n",
      " 'Adventure, Fantasy, Horror' 'Adventure, History'\n",
      " 'Comedy, Drama, History' 'Mystery, Sci-Fi' 'Action, Thriller, War'\n",
      " 'Documentary, Drama, News' 'Documentary, Crime, Mystery'\n",
      " 'Adventure, Horror' 'Animation, Drama, Adventure'\n",
      " 'Crime, Horror, Romance' 'Documentary, Adventure, Drama'\n",
      " 'Documentary, Biography, History' 'Fantasy, Horror, Romance'\n",
      " 'Comedy, Fantasy, Musical' 'Crime, Musical, Thriller' 'Documentary, War'\n",
      " 'Action, Comedy, War' 'Crime, Drama, Sport' 'Musical, Adventure, Drama'\n",
      " 'Horror, Romance, Sci-Fi' 'Musical, Mystery, Romance'\n",
      " 'Romance, Musical, Drama' 'Adventure, Fantasy, Sci-Fi']\n",
      "===========================================================================\n",
      "                          Rating\n",
      "===========================================================================\n",
      "[ nan  7.   4.4  4.7  7.4  5.6  4.   6.2  5.9  6.5  5.7  6.3  7.2  6.6\n",
      "  7.3  7.1  6.9  3.5  5.   4.5  6.4  4.1  4.8  8.1  5.5  6.8  6.1  7.7\n",
      "  5.1  7.6  3.1  3.3  7.8  8.4  5.2  4.3  5.8  4.6  7.5  6.7  3.6  3.9\n",
      "  5.4  4.2  5.3  3.4  3.   8.   6.   3.8  7.9  2.7  4.9  2.4  3.7  3.2\n",
      "  2.5  2.8  2.6  2.9  8.2  8.7  8.3  9.3  8.8  2.1  2.3  8.5  8.6  9.\n",
      "  9.6  1.7  9.1  2.   1.4  8.9  1.9  9.4  9.7  1.8  9.2  1.6 10.   2.2\n",
      "  1.1]\n",
      "===========================================================================\n",
      "                          Votes\n",
      "===========================================================================\n",
      "[nan '8' '35' ... '70344' '408' '1496']\n",
      "===========================================================================\n",
      "                          Director\n",
      "===========================================================================\n",
      "['J.S. Randhawa' 'Gaurav Bakshi' 'Soumyajit Majumdar' ... 'Mozez Singh'\n",
      " 'Ved Prakash' 'Kiran Thej']\n",
      "===========================================================================\n",
      "                          Actor 1\n",
      "===========================================================================\n",
      "['Manmauji' 'Rasika Dugal' 'Sayani Gupta' ... 'Meghan Jadhav'\n",
      " 'Roohi Berde' 'Sangeeta Tiwari']\n",
      "===========================================================================\n",
      "                          Actor 2\n",
      "===========================================================================\n",
      "['Birbal' 'Vivek Ghamande' 'Plabita Borthakur' ... 'Devan Sanjeev'\n",
      " 'Prince Daniel' 'Sarah Jane Dias']\n",
      "===========================================================================\n",
      "                          Actor 3\n",
      "===========================================================================\n",
      "['Rajendra Bhatia' 'Arvind Jangid' 'Roy Angana' ... 'Shatakshi Gupta'\n",
      " 'Valerie Agha' 'Suparna Anand']\n"
     ]
    }
   ],
   "source": [
    "for col in df.columns:\n",
    "    print(\"=\"*75)\n",
    "    print(\" \"*25,col)\n",
    "    print(\"=\"*75)\n",
    "    print(df[col].unique())"
   ]
  },
  {
   "cell_type": "markdown",
   "id": "8c8b6b71",
   "metadata": {},
   "source": [
    "## Information about dataset"
   ]
  },
  {
   "cell_type": "code",
   "execution_count": 7,
   "id": "5962f8bf",
   "metadata": {},
   "outputs": [
    {
     "name": "stdout",
     "output_type": "stream",
     "text": [
      "<class 'pandas.core.frame.DataFrame'>\n",
      "RangeIndex: 15509 entries, 0 to 15508\n",
      "Data columns (total 10 columns):\n",
      " #   Column    Non-Null Count  Dtype  \n",
      "---  ------    --------------  -----  \n",
      " 0   Name      15509 non-null  object \n",
      " 1   Year      14981 non-null  float64\n",
      " 2   Duration  7240 non-null   object \n",
      " 3   Genre     13632 non-null  object \n",
      " 4   Rating    7919 non-null   float64\n",
      " 5   Votes     7920 non-null   object \n",
      " 6   Director  14984 non-null  object \n",
      " 7   Actor 1   13892 non-null  object \n",
      " 8   Actor 2   13125 non-null  object \n",
      " 9   Actor 3   12365 non-null  object \n",
      "dtypes: float64(2), object(8)\n",
      "memory usage: 1.2+ MB\n"
     ]
    }
   ],
   "source": [
    "df.info()"
   ]
  },
  {
   "cell_type": "code",
   "execution_count": 8,
   "id": "eb98cef3",
   "metadata": {},
   "outputs": [
    {
     "data": {
      "text/plain": [
       "Name         0.000000\n",
       "Year         3.404475\n",
       "Duration    53.317429\n",
       "Genre       12.102650\n",
       "Rating      48.939326\n",
       "Votes       48.932878\n",
       "Director     3.385131\n",
       "Actor 1     10.426204\n",
       "Actor 2     15.371720\n",
       "Actor 3     20.272100\n",
       "dtype: float64"
      ]
     },
     "execution_count": 8,
     "metadata": {},
     "output_type": "execute_result"
    }
   ],
   "source": [
    "df.isnull().sum()/len(df)*100"
   ]
  },
  {
   "cell_type": "markdown",
   "id": "da664714",
   "metadata": {},
   "source": [
    "- Duration,Rating,Votes have missing value morethan 25%"
   ]
  },
  {
   "cell_type": "code",
   "execution_count": 9,
   "id": "27bfb3dc",
   "metadata": {},
   "outputs": [],
   "source": [
    "df.drop(['Duration','Votes'],axis=1,inplace=True)"
   ]
  },
  {
   "cell_type": "code",
   "execution_count": 10,
   "id": "7f3dfd20",
   "metadata": {},
   "outputs": [
    {
     "data": {
      "text/html": [
       "<div>\n",
       "<style scoped>\n",
       "    .dataframe tbody tr th:only-of-type {\n",
       "        vertical-align: middle;\n",
       "    }\n",
       "\n",
       "    .dataframe tbody tr th {\n",
       "        vertical-align: top;\n",
       "    }\n",
       "\n",
       "    .dataframe thead th {\n",
       "        text-align: right;\n",
       "    }\n",
       "</style>\n",
       "<table border=\"1\" class=\"dataframe\">\n",
       "  <thead>\n",
       "    <tr style=\"text-align: right;\">\n",
       "      <th></th>\n",
       "      <th>Name</th>\n",
       "      <th>Year</th>\n",
       "      <th>Genre</th>\n",
       "      <th>Rating</th>\n",
       "      <th>Director</th>\n",
       "      <th>Actor 1</th>\n",
       "      <th>Actor 2</th>\n",
       "      <th>Actor 3</th>\n",
       "    </tr>\n",
       "  </thead>\n",
       "  <tbody>\n",
       "    <tr>\n",
       "      <th>0</th>\n",
       "      <td></td>\n",
       "      <td>NaN</td>\n",
       "      <td>Drama</td>\n",
       "      <td>NaN</td>\n",
       "      <td>J.S. Randhawa</td>\n",
       "      <td>Manmauji</td>\n",
       "      <td>Birbal</td>\n",
       "      <td>Rajendra Bhatia</td>\n",
       "    </tr>\n",
       "    <tr>\n",
       "      <th>1</th>\n",
       "      <td>#Gadhvi (He thought he was Gandhi)</td>\n",
       "      <td>-2019.0</td>\n",
       "      <td>Drama</td>\n",
       "      <td>7.0</td>\n",
       "      <td>Gaurav Bakshi</td>\n",
       "      <td>Rasika Dugal</td>\n",
       "      <td>Vivek Ghamande</td>\n",
       "      <td>Arvind Jangid</td>\n",
       "    </tr>\n",
       "    <tr>\n",
       "      <th>2</th>\n",
       "      <td>#Homecoming</td>\n",
       "      <td>-2021.0</td>\n",
       "      <td>Drama, Musical</td>\n",
       "      <td>NaN</td>\n",
       "      <td>Soumyajit Majumdar</td>\n",
       "      <td>Sayani Gupta</td>\n",
       "      <td>Plabita Borthakur</td>\n",
       "      <td>Roy Angana</td>\n",
       "    </tr>\n",
       "    <tr>\n",
       "      <th>3</th>\n",
       "      <td>#Yaaram</td>\n",
       "      <td>-2019.0</td>\n",
       "      <td>Comedy, Romance</td>\n",
       "      <td>4.4</td>\n",
       "      <td>Ovais Khan</td>\n",
       "      <td>Prateik</td>\n",
       "      <td>Ishita Raj</td>\n",
       "      <td>Siddhant Kapoor</td>\n",
       "    </tr>\n",
       "    <tr>\n",
       "      <th>4</th>\n",
       "      <td>...And Once Again</td>\n",
       "      <td>-2010.0</td>\n",
       "      <td>Drama</td>\n",
       "      <td>NaN</td>\n",
       "      <td>Amol Palekar</td>\n",
       "      <td>Rajat Kapoor</td>\n",
       "      <td>Rituparna Sengupta</td>\n",
       "      <td>Antara Mali</td>\n",
       "    </tr>\n",
       "  </tbody>\n",
       "</table>\n",
       "</div>"
      ],
      "text/plain": [
       "                                 Name    Year            Genre  Rating  \\\n",
       "0                                         NaN            Drama     NaN   \n",
       "1  #Gadhvi (He thought he was Gandhi) -2019.0            Drama     7.0   \n",
       "2                         #Homecoming -2021.0   Drama, Musical     NaN   \n",
       "3                             #Yaaram -2019.0  Comedy, Romance     4.4   \n",
       "4                   ...And Once Again -2010.0            Drama     NaN   \n",
       "\n",
       "             Director       Actor 1             Actor 2          Actor 3  \n",
       "0       J.S. Randhawa      Manmauji              Birbal  Rajendra Bhatia  \n",
       "1       Gaurav Bakshi  Rasika Dugal      Vivek Ghamande    Arvind Jangid  \n",
       "2  Soumyajit Majumdar  Sayani Gupta   Plabita Borthakur       Roy Angana  \n",
       "3          Ovais Khan       Prateik          Ishita Raj  Siddhant Kapoor  \n",
       "4        Amol Palekar  Rajat Kapoor  Rituparna Sengupta      Antara Mali  "
      ]
     },
     "execution_count": 10,
     "metadata": {},
     "output_type": "execute_result"
    }
   ],
   "source": [
    "df.head()"
   ]
  },
  {
   "cell_type": "code",
   "execution_count": 11,
   "id": "7c4af0d9",
   "metadata": {},
   "outputs": [
    {
     "name": "stdout",
     "output_type": "stream",
     "text": [
      "<class 'pandas.core.frame.DataFrame'>\n",
      "RangeIndex: 15509 entries, 0 to 15508\n",
      "Data columns (total 8 columns):\n",
      " #   Column    Non-Null Count  Dtype  \n",
      "---  ------    --------------  -----  \n",
      " 0   Name      15509 non-null  object \n",
      " 1   Year      14981 non-null  float64\n",
      " 2   Genre     13632 non-null  object \n",
      " 3   Rating    7919 non-null   float64\n",
      " 4   Director  14984 non-null  object \n",
      " 5   Actor 1   13892 non-null  object \n",
      " 6   Actor 2   13125 non-null  object \n",
      " 7   Actor 3   12365 non-null  object \n",
      "dtypes: float64(2), object(6)\n",
      "memory usage: 969.4+ KB\n"
     ]
    }
   ],
   "source": [
    "df.info()"
   ]
  },
  {
   "cell_type": "markdown",
   "id": "8ce151dd",
   "metadata": {},
   "source": [
    "- Name,Genre,Director,Actor1,Actor2,Actor3 are objective columns"
   ]
  },
  {
   "cell_type": "code",
   "execution_count": 12,
   "id": "e94c01e5",
   "metadata": {},
   "outputs": [
    {
     "name": "stdout",
     "output_type": "stream",
     "text": [
      "================================================== {'Name'} ==================================================\n",
      "Anjaam                7\n",
      "Mamta                 7\n",
      "Zindagi               6\n",
      "Musafir               6\n",
      "Albela                5\n",
      "                     ..\n",
      "Hamen Bhi Jeene Do    1\n",
      "Hamen Khelne Do       1\n",
      "Hameshaa              1\n",
      "Hamid                 1\n",
      "Zulm-O-Sitam          1\n",
      "Name: Name, Length: 13838, dtype: int64\n",
      "===========================================================================\n",
      "================================================== {'Genre'} ==================================================\n",
      "Drama                         2780\n",
      "Action                        1289\n",
      "Thriller                       779\n",
      "Romance                        708\n",
      "Drama, Romance                 524\n",
      "                              ... \n",
      "Action, Musical, War             1\n",
      "Horror, Crime, Thriller          1\n",
      "Animation, Comedy                1\n",
      "Romance, Action, Crime           1\n",
      "Adventure, Fantasy, Sci-Fi       1\n",
      "Name: Genre, Length: 485, dtype: int64\n",
      "===========================================================================\n",
      "================================================== {'Director'} ==================================================\n",
      "Jayant Desai        58\n",
      "Kanti Shah          57\n",
      "Babubhai Mistry     50\n",
      "Mahesh Bhatt        48\n",
      "Master Bhagwan      47\n",
      "                    ..\n",
      "Naeem Siddiqui       1\n",
      "Shadaab Khan         1\n",
      "Mystelle Brabbee     1\n",
      "Kunal Shivdasani     1\n",
      "Kiran Thej           1\n",
      "Name: Director, Length: 5938, dtype: int64\n",
      "===========================================================================\n",
      "================================================== {'Actor 1'} ==================================================\n",
      "Ashok Kumar           158\n",
      "Dharmendra            140\n",
      "Jeetendra             140\n",
      "Mithun Chakraborty    133\n",
      "Amitabh Bachchan      129\n",
      "                     ... \n",
      "Vatsal Sheth            1\n",
      "Ujala Baboria           1\n",
      "Dimple Sewak            1\n",
      "Komal Leels             1\n",
      "Sangeeta Tiwari         1\n",
      "Name: Actor 1, Length: 4718, dtype: int64\n",
      "===========================================================================\n",
      "================================================== {'Actor 2'} ==================================================\n",
      "Rekha                 83\n",
      "Hema Malini           72\n",
      "Mithun Chakraborty    63\n",
      "Dharmendra            61\n",
      "Mala Sinha            48\n",
      "                      ..\n",
      "Paris Keswani          1\n",
      "Shubhangi Latkar       1\n",
      "Amit Ghosh             1\n",
      "Ayushi Singh           1\n",
      "Sarah Jane Dias        1\n",
      "Name: Actor 2, Length: 4891, dtype: int64\n",
      "===========================================================================\n",
      "================================================== {'Actor 3'} ==================================================\n",
      "Pran             91\n",
      "Shakti Kapoor    65\n",
      "Anupam Kher      64\n",
      "Jeevan           59\n",
      "Prem Chopra      52\n",
      "                 ..\n",
      "Kayamali          1\n",
      "Kirit Shah        1\n",
      "Sanil Khosla      1\n",
      "Anup Grover       1\n",
      "Suparna Anand     1\n",
      "Name: Actor 3, Length: 4820, dtype: int64\n",
      "===========================================================================\n"
     ]
    }
   ],
   "source": [
    "for i in df.select_dtypes(include='object').columns:\n",
    "    print(f\"==\"*25,{i},\"==\"*25)\n",
    "    print(df[i].value_counts())\n",
    "    print('='*75)"
   ]
  },
  {
   "cell_type": "code",
   "execution_count": 13,
   "id": "ff1cb6d0",
   "metadata": {},
   "outputs": [
    {
     "data": {
      "text/plain": [
       "False    13838\n",
       "True      1671\n",
       "Name: Name, dtype: int64"
      ]
     },
     "execution_count": 13,
     "metadata": {},
     "output_type": "execute_result"
    }
   ],
   "source": [
    "df['Name'].duplicated().value_counts()"
   ]
  },
  {
   "cell_type": "code",
   "execution_count": 14,
   "id": "6ec89e9d",
   "metadata": {},
   "outputs": [],
   "source": [
    "df.drop_duplicates(subset='Name',inplace=True) #removing duplicate values"
   ]
  },
  {
   "cell_type": "code",
   "execution_count": 15,
   "id": "69e06f0b",
   "metadata": {},
   "outputs": [
    {
     "data": {
      "text/plain": [
       "False    13838\n",
       "Name: Name, dtype: int64"
      ]
     },
     "execution_count": 15,
     "metadata": {},
     "output_type": "execute_result"
    }
   ],
   "source": [
    "df['Name'].duplicated().value_counts()"
   ]
  },
  {
   "cell_type": "code",
   "execution_count": 16,
   "id": "a257efa0",
   "metadata": {},
   "outputs": [
    {
     "name": "stdout",
     "output_type": "stream",
     "text": [
      "<class 'pandas.core.frame.DataFrame'>\n",
      "Int64Index: 13838 entries, 0 to 15508\n",
      "Data columns (total 8 columns):\n",
      " #   Column    Non-Null Count  Dtype  \n",
      "---  ------    --------------  -----  \n",
      " 0   Name      13838 non-null  object \n",
      " 1   Year      13340 non-null  float64\n",
      " 2   Genre     12248 non-null  object \n",
      " 3   Rating    7153 non-null   float64\n",
      " 4   Director  13373 non-null  object \n",
      " 5   Actor 1   12399 non-null  object \n",
      " 6   Actor 2   11706 non-null  object \n",
      " 7   Actor 3   11033 non-null  object \n",
      "dtypes: float64(2), object(6)\n",
      "memory usage: 973.0+ KB\n"
     ]
    }
   ],
   "source": [
    "df.info()"
   ]
  },
  {
   "cell_type": "code",
   "execution_count": 17,
   "id": "30a65e51",
   "metadata": {},
   "outputs": [
    {
     "data": {
      "text/plain": [
       "Name         0.000000\n",
       "Year         3.598786\n",
       "Genre       11.490100\n",
       "Rating      48.309004\n",
       "Director     3.360312\n",
       "Actor 1     10.398902\n",
       "Actor 2     15.406851\n",
       "Actor 3     20.270270\n",
       "dtype: float64"
      ]
     },
     "execution_count": 17,
     "metadata": {},
     "output_type": "execute_result"
    }
   ],
   "source": [
    "df.isnull().sum()/len(df)*100"
   ]
  },
  {
   "cell_type": "code",
   "execution_count": 18,
   "id": "a9c47277",
   "metadata": {},
   "outputs": [
    {
     "name": "stdout",
     "output_type": "stream",
     "text": [
      "<class 'pandas.core.frame.DataFrame'>\n",
      "Int64Index: 13838 entries, 0 to 15508\n",
      "Data columns (total 8 columns):\n",
      " #   Column    Non-Null Count  Dtype  \n",
      "---  ------    --------------  -----  \n",
      " 0   Name      13838 non-null  object \n",
      " 1   Year      13340 non-null  float64\n",
      " 2   Genre     12248 non-null  object \n",
      " 3   Rating    7153 non-null   float64\n",
      " 4   Director  13373 non-null  object \n",
      " 5   Actor 1   12399 non-null  object \n",
      " 6   Actor 2   11706 non-null  object \n",
      " 7   Actor 3   11033 non-null  object \n",
      "dtypes: float64(2), object(6)\n",
      "memory usage: 973.0+ KB\n"
     ]
    }
   ],
   "source": [
    "df.info()"
   ]
  },
  {
   "cell_type": "code",
   "execution_count": 19,
   "id": "5679e11f",
   "metadata": {},
   "outputs": [
    {
     "data": {
      "image/png": "[encoded data removed]",
      "text/plain": [
       "<Figure size 640x480 with 1 Axes>"
      ]
     },
     "metadata": {},
     "output_type": "display_data"
    },
    {
     "data": {
      "image/png": "[encoded data removed]",
      "text/plain": [
       "<Figure size 640x480 with 1 Axes>"
      ]
     },
     "metadata": {},
     "output_type": "display_data"
    }
   ],
   "source": [
    "for i in df.select_dtypes(exclude=object).columns:\n",
    "    sns.boxplot(df[i])\n",
    "    plt.show()"
   ]
  },
  {
   "cell_type": "code",
   "execution_count": 20,
   "id": "c105a783",
   "metadata": {},
   "outputs": [],
   "source": [
    "df['Year']=df['Year'].fillna(df['Year'].median())"
   ]
  },
  {
   "cell_type": "code",
   "execution_count": 21,
   "id": "bff58c99",
   "metadata": {},
   "outputs": [],
   "source": [
    "for i in df.select_dtypes(include=object).columns:\n",
    "    df[i]=df[i].fillna(df[i].mode().iloc[0])"
   ]
  },
  {
   "cell_type": "code",
   "execution_count": 22,
   "id": "779d4fef",
   "metadata": {},
   "outputs": [],
   "source": [
    "Name_rating = df.groupby('Name')['Rating'].transform('mean')\n",
    "df['Name_mean_rating'] = Name_rating"
   ]
  },
  {
   "cell_type": "code",
   "execution_count": 23,
   "id": "d8756e84",
   "metadata": {},
   "outputs": [],
   "source": [
    "Actor1_rating=df.groupby('Actor 1')['Rating'].transform('mean')\n",
    "df['Actor_1_rating']=Actor1_rating"
   ]
  },
  {
   "cell_type": "code",
   "execution_count": 24,
   "id": "58d0a609",
   "metadata": {},
   "outputs": [],
   "source": [
    "Actor2_rating=df.groupby('Actor 2')['Rating'].transform('mean')\n",
    "df['Actor_2_rating']=Actor2_rating"
   ]
  },
  {
   "cell_type": "code",
   "execution_count": 25,
   "id": "0cfadbfd",
   "metadata": {},
   "outputs": [],
   "source": [
    "Actor3_rating=df.groupby('Actor 3')['Rating'].transform('mean')\n",
    "df['Actor_3_rating']=Actor3_rating"
   ]
  },
  {
   "cell_type": "code",
   "execution_count": 26,
   "id": "d3e8e63b",
   "metadata": {},
   "outputs": [],
   "source": [
    "director_rating=df.groupby('Director')['Rating'].transform('mean')\n",
    "df['director_rating']=director_rating"
   ]
  },
  {
   "cell_type": "code",
   "execution_count": 27,
   "id": "2117999a",
   "metadata": {},
   "outputs": [],
   "source": [
    "genre_rating=df.groupby('Genre')['Rating'].transform('mean')\n",
    "df['genre_rating']=genre_rating"
   ]
  },
  {
   "cell_type": "code",
   "execution_count": 28,
   "id": "1a9af8c6",
   "metadata": {},
   "outputs": [],
   "source": [
    "df.drop(['Name','Actor 1','Actor 2','Actor 3','Genre','Director'],axis=1,inplace=True)"
   ]
  },
  {
   "cell_type": "code",
   "execution_count": 29,
   "id": "5856bc4f",
   "metadata": {},
   "outputs": [
    {
     "data": {
      "text/html": [
       "<div>\n",
       "<style scoped>\n",
       "    .dataframe tbody tr th:only-of-type {\n",
       "        vertical-align: middle;\n",
       "    }\n",
       "\n",
       "    .dataframe tbody tr th {\n",
       "        vertical-align: top;\n",
       "    }\n",
       "\n",
       "    .dataframe thead th {\n",
       "        text-align: right;\n",
       "    }\n",
       "</style>\n",
       "<table border=\"1\" class=\"dataframe\">\n",
       "  <thead>\n",
       "    <tr style=\"text-align: right;\">\n",
       "      <th></th>\n",
       "      <th>Year</th>\n",
       "      <th>Rating</th>\n",
       "      <th>Name_mean_rating</th>\n",
       "      <th>Actor_1_rating</th>\n",
       "      <th>Actor_2_rating</th>\n",
       "      <th>Actor_3_rating</th>\n",
       "      <th>director_rating</th>\n",
       "      <th>genre_rating</th>\n",
       "    </tr>\n",
       "  </thead>\n",
       "  <tbody>\n",
       "    <tr>\n",
       "      <th>0</th>\n",
       "      <td>-1993.0</td>\n",
       "      <td>NaN</td>\n",
       "      <td>NaN</td>\n",
       "      <td>NaN</td>\n",
       "      <td>5.187500</td>\n",
       "      <td>NaN</td>\n",
       "      <td>5.70000</td>\n",
       "      <td>6.348960</td>\n",
       "    </tr>\n",
       "    <tr>\n",
       "      <th>1</th>\n",
       "      <td>-2019.0</td>\n",
       "      <td>7.0</td>\n",
       "      <td>7.0</td>\n",
       "      <td>6.850000</td>\n",
       "      <td>7.000000</td>\n",
       "      <td>7.000000</td>\n",
       "      <td>7.00000</td>\n",
       "      <td>6.348960</td>\n",
       "    </tr>\n",
       "    <tr>\n",
       "      <th>2</th>\n",
       "      <td>-2021.0</td>\n",
       "      <td>NaN</td>\n",
       "      <td>NaN</td>\n",
       "      <td>7.000000</td>\n",
       "      <td>7.350000</td>\n",
       "      <td>NaN</td>\n",
       "      <td>NaN</td>\n",
       "      <td>6.442857</td>\n",
       "    </tr>\n",
       "    <tr>\n",
       "      <th>3</th>\n",
       "      <td>-2019.0</td>\n",
       "      <td>4.4</td>\n",
       "      <td>4.4</td>\n",
       "      <td>5.420000</td>\n",
       "      <td>4.400000</td>\n",
       "      <td>4.450000</td>\n",
       "      <td>4.40000</td>\n",
       "      <td>5.707895</td>\n",
       "    </tr>\n",
       "    <tr>\n",
       "      <th>4</th>\n",
       "      <td>-2010.0</td>\n",
       "      <td>NaN</td>\n",
       "      <td>NaN</td>\n",
       "      <td>7.000000</td>\n",
       "      <td>5.742857</td>\n",
       "      <td>5.400000</td>\n",
       "      <td>6.30000</td>\n",
       "      <td>6.348960</td>\n",
       "    </tr>\n",
       "    <tr>\n",
       "      <th>...</th>\n",
       "      <td>...</td>\n",
       "      <td>...</td>\n",
       "      <td>...</td>\n",
       "      <td>...</td>\n",
       "      <td>...</td>\n",
       "      <td>...</td>\n",
       "      <td>...</td>\n",
       "      <td>...</td>\n",
       "    </tr>\n",
       "    <tr>\n",
       "      <th>15504</th>\n",
       "      <td>-1988.0</td>\n",
       "      <td>4.6</td>\n",
       "      <td>4.6</td>\n",
       "      <td>6.079070</td>\n",
       "      <td>3.700000</td>\n",
       "      <td>4.600000</td>\n",
       "      <td>4.07500</td>\n",
       "      <td>5.130084</td>\n",
       "    </tr>\n",
       "    <tr>\n",
       "      <th>15505</th>\n",
       "      <td>-1999.0</td>\n",
       "      <td>4.5</td>\n",
       "      <td>4.5</td>\n",
       "      <td>5.485333</td>\n",
       "      <td>4.771429</td>\n",
       "      <td>5.500000</td>\n",
       "      <td>5.25000</td>\n",
       "      <td>5.462241</td>\n",
       "    </tr>\n",
       "    <tr>\n",
       "      <th>15506</th>\n",
       "      <td>-2005.0</td>\n",
       "      <td>NaN</td>\n",
       "      <td>NaN</td>\n",
       "      <td>NaN</td>\n",
       "      <td>6.434510</td>\n",
       "      <td>6.529738</td>\n",
       "      <td>NaN</td>\n",
       "      <td>5.130084</td>\n",
       "    </tr>\n",
       "    <tr>\n",
       "      <th>15507</th>\n",
       "      <td>-1988.0</td>\n",
       "      <td>NaN</td>\n",
       "      <td>NaN</td>\n",
       "      <td>6.665138</td>\n",
       "      <td>6.434510</td>\n",
       "      <td>6.529738</td>\n",
       "      <td>6.81250</td>\n",
       "      <td>5.130084</td>\n",
       "    </tr>\n",
       "    <tr>\n",
       "      <th>15508</th>\n",
       "      <td>-1998.0</td>\n",
       "      <td>6.2</td>\n",
       "      <td>6.2</td>\n",
       "      <td>5.655263</td>\n",
       "      <td>5.441667</td>\n",
       "      <td>4.633333</td>\n",
       "      <td>4.33125</td>\n",
       "      <td>5.462241</td>\n",
       "    </tr>\n",
       "  </tbody>\n",
       "</table>\n",
       "<p>13838 rows × 8 columns</p>\n",
       "</div>"
      ],
      "text/plain": [
       "         Year  Rating  Name_mean_rating  Actor_1_rating  Actor_2_rating  \\\n",
       "0     -1993.0     NaN               NaN             NaN        5.187500   \n",
       "1     -2019.0     7.0               7.0        6.850000        7.000000   \n",
       "2     -2021.0     NaN               NaN        7.000000        7.350000   \n",
       "3     -2019.0     4.4               4.4        5.420000        4.400000   \n",
       "4     -2010.0     NaN               NaN        7.000000        5.742857   \n",
       "...       ...     ...               ...             ...             ...   \n",
       "15504 -1988.0     4.6               4.6        6.079070        3.700000   \n",
       "15505 -1999.0     4.5               4.5        5.485333        4.771429   \n",
       "15506 -2005.0     NaN               NaN             NaN        6.434510   \n",
       "15507 -1988.0     NaN               NaN        6.665138        6.434510   \n",
       "15508 -1998.0     6.2               6.2        5.655263        5.441667   \n",
       "\n",
       "       Actor_3_rating  director_rating  genre_rating  \n",
       "0                 NaN          5.70000      6.348960  \n",
       "1            7.000000          7.00000      6.348960  \n",
       "2                 NaN              NaN      6.442857  \n",
       "3            4.450000          4.40000      5.707895  \n",
       "4            5.400000          6.30000      6.348960  \n",
       "...               ...              ...           ...  \n",
       "15504        4.600000          4.07500      5.130084  \n",
       "15505        5.500000          5.25000      5.462241  \n",
       "15506        6.529738              NaN      5.130084  \n",
       "15507        6.529738          6.81250      5.130084  \n",
       "15508        4.633333          4.33125      5.462241  \n",
       "\n",
       "[13838 rows x 8 columns]"
      ]
     },
     "execution_count": 29,
     "metadata": {},
     "output_type": "execute_result"
    }
   ],
   "source": [
    "df"
   ]
  },
  {
   "cell_type": "code",
   "execution_count": 30,
   "id": "ed3ab43c",
   "metadata": {},
   "outputs": [
    {
     "name": "stdout",
     "output_type": "stream",
     "text": [
      "<class 'pandas.core.frame.DataFrame'>\n",
      "Int64Index: 13838 entries, 0 to 15508\n",
      "Data columns (total 8 columns):\n",
      " #   Column            Non-Null Count  Dtype  \n",
      "---  ------            --------------  -----  \n",
      " 0   Year              13838 non-null  float64\n",
      " 1   Rating            7153 non-null   float64\n",
      " 2   Name_mean_rating  7153 non-null   float64\n",
      " 3   Actor_1_rating    10999 non-null  float64\n",
      " 4   Actor_2_rating    11373 non-null  float64\n",
      " 5   Actor_3_rating    11780 non-null  float64\n",
      " 6   director_rating   10192 non-null  float64\n",
      " 7   genre_rating      13773 non-null  float64\n",
      "dtypes: float64(8)\n",
      "memory usage: 973.0 KB\n"
     ]
    }
   ],
   "source": [
    "df.info()"
   ]
  },
  {
   "cell_type": "code",
   "execution_count": 31,
   "id": "6f91d7b3",
   "metadata": {},
   "outputs": [],
   "source": [
    "df['Year']=df['Year'].fillna(df['Year'].median())\n",
    "df['Name_mean_rating']=df['Name_mean_rating'].fillna(df['Name_mean_rating'].median())\n",
    "df['Actor_1_rating']=df['Actor_1_rating'].fillna(df['Actor_1_rating'].median())\n",
    "df['Actor_2_rating']=df['Actor_2_rating'].fillna(df['Actor_2_rating'].median())\n",
    "df['Actor_3_rating']=df['Actor_3_rating'].fillna(df['Actor_3_rating'].median())\n",
    "df['director_rating']=df['director_rating'].fillna(df['director_rating'].median())\n",
    "df['genre_rating']=df['genre_rating'].fillna(df['genre_rating'].median())\n",
    "df['Rating']=df['Rating'].fillna(df['Rating'].median())"
   ]
  },
  {
   "cell_type": "markdown",
   "id": "7f5557e0",
   "metadata": {},
   "source": [
    "### No encoding"
   ]
  },
  {
   "cell_type": "code",
   "execution_count": 32,
   "id": "7ac11756",
   "metadata": {},
   "outputs": [
    {
     "data": {
      "image/png": "[encoded data removed]",
      "text/plain": [
       "<Figure size 640x480 with 1 Axes>"
      ]
     },
     "metadata": {},
     "output_type": "display_data"
    },
    {
     "data": {
      "image/png": "[encoded data removed]",
      "text/plain": [
       "<Figure size 640x480 with 1 Axes>"
      ]
     },
     "metadata": {},
     "output_type": "display_data"
    },
    {
     "data": {
      "image/png": "[encoded data removed]",
      "text/plain": [
       "<Figure size 640x480 with 1 Axes>"
      ]
     },
     "metadata": {},
     "output_type": "display_data"
    },
    {
     "data": {
      "image/png": "[encoded data removed]",
      "text/plain": [
       "<Figure size 640x480 with 1 Axes>"
      ]
     },
     "metadata": {},
     "output_type": "display_data"
    },
    {
     "data": {
      "image/png": "[encoded data removed]",
      "text/plain": [
       "<Figure size 640x480 with 1 Axes>"
      ]
     },
     "metadata": {},
     "output_type": "display_data"
    },
    {
     "data": {
      "image/png": "[encoded data removed]",
      "text/plain": [
       "<Figure size 640x480 with 1 Axes>"
      ]
     },
     "metadata": {},
     "output_type": "display_data"
    },
    {
     "data": {
      "image/png": "[encoded data removed]",
      "text/plain": [
       "<Figure size 640x480 with 1 Axes>"
      ]
     },
     "metadata": {},
     "output_type": "display_data"
    },
    {
     "data": {
      "image/png": "[encoded data removed]",
      "text/plain": [
       "<Figure size 640x480 with 1 Axes>"
      ]
     },
     "metadata": {},
     "output_type": "display_data"
    }
   ],
   "source": [
    "for i in df.columns:\n",
    "    sns.boxplot(df[i])\n",
    "    plt.show()"
   ]
  },
  {
   "cell_type": "markdown",
   "id": "72e4b652",
   "metadata": {},
   "source": [
    "### Every column have outliers but considering each and every value is important in predicting the target"
   ]
  },
  {
   "cell_type": "markdown",
   "id": "9df6683a",
   "metadata": {},
   "source": [
    "## split data into dv and idv"
   ]
  },
  {
   "cell_type": "code",
   "execution_count": 33,
   "id": "c65ad4e1",
   "metadata": {},
   "outputs": [],
   "source": [
    "x=df.drop('Rating',axis=1)"
   ]
  },
  {
   "cell_type": "code",
   "execution_count": 34,
   "id": "ef29f276",
   "metadata": {},
   "outputs": [],
   "source": [
    "y=df['Rating']"
   ]
  },
  {
   "cell_type": "code",
   "execution_count": 35,
   "id": "12ec452a",
   "metadata": {},
   "outputs": [
    {
     "data": {
      "text/html": [
       "<div>\n",
       "<style scoped>\n",
       "    .dataframe tbody tr th:only-of-type {\n",
       "        vertical-align: middle;\n",
       "    }\n",
       "\n",
       "    .dataframe tbody tr th {\n",
       "        vertical-align: top;\n",
       "    }\n",
       "\n",
       "    .dataframe thead th {\n",
       "        text-align: right;\n",
       "    }\n",
       "</style>\n",
       "<table border=\"1\" class=\"dataframe\">\n",
       "  <thead>\n",
       "    <tr style=\"text-align: right;\">\n",
       "      <th></th>\n",
       "      <th>Year</th>\n",
       "      <th>Name_mean_rating</th>\n",
       "      <th>Actor_1_rating</th>\n",
       "      <th>Actor_2_rating</th>\n",
       "      <th>Actor_3_rating</th>\n",
       "      <th>director_rating</th>\n",
       "      <th>genre_rating</th>\n",
       "    </tr>\n",
       "  </thead>\n",
       "  <tbody>\n",
       "    <tr>\n",
       "      <th>0</th>\n",
       "      <td>-1993.0</td>\n",
       "      <td>6.0</td>\n",
       "      <td>6.100000</td>\n",
       "      <td>5.187500</td>\n",
       "      <td>6.266667</td>\n",
       "      <td>5.70000</td>\n",
       "      <td>6.348960</td>\n",
       "    </tr>\n",
       "    <tr>\n",
       "      <th>1</th>\n",
       "      <td>-2019.0</td>\n",
       "      <td>7.0</td>\n",
       "      <td>6.850000</td>\n",
       "      <td>7.000000</td>\n",
       "      <td>7.000000</td>\n",
       "      <td>7.00000</td>\n",
       "      <td>6.348960</td>\n",
       "    </tr>\n",
       "    <tr>\n",
       "      <th>2</th>\n",
       "      <td>-2021.0</td>\n",
       "      <td>6.0</td>\n",
       "      <td>7.000000</td>\n",
       "      <td>7.350000</td>\n",
       "      <td>6.266667</td>\n",
       "      <td>6.00000</td>\n",
       "      <td>6.442857</td>\n",
       "    </tr>\n",
       "    <tr>\n",
       "      <th>3</th>\n",
       "      <td>-2019.0</td>\n",
       "      <td>4.4</td>\n",
       "      <td>5.420000</td>\n",
       "      <td>4.400000</td>\n",
       "      <td>4.450000</td>\n",
       "      <td>4.40000</td>\n",
       "      <td>5.707895</td>\n",
       "    </tr>\n",
       "    <tr>\n",
       "      <th>4</th>\n",
       "      <td>-2010.0</td>\n",
       "      <td>6.0</td>\n",
       "      <td>7.000000</td>\n",
       "      <td>5.742857</td>\n",
       "      <td>5.400000</td>\n",
       "      <td>6.30000</td>\n",
       "      <td>6.348960</td>\n",
       "    </tr>\n",
       "    <tr>\n",
       "      <th>...</th>\n",
       "      <td>...</td>\n",
       "      <td>...</td>\n",
       "      <td>...</td>\n",
       "      <td>...</td>\n",
       "      <td>...</td>\n",
       "      <td>...</td>\n",
       "      <td>...</td>\n",
       "    </tr>\n",
       "    <tr>\n",
       "      <th>15504</th>\n",
       "      <td>-1988.0</td>\n",
       "      <td>4.6</td>\n",
       "      <td>6.079070</td>\n",
       "      <td>3.700000</td>\n",
       "      <td>4.600000</td>\n",
       "      <td>4.07500</td>\n",
       "      <td>5.130084</td>\n",
       "    </tr>\n",
       "    <tr>\n",
       "      <th>15505</th>\n",
       "      <td>-1999.0</td>\n",
       "      <td>4.5</td>\n",
       "      <td>5.485333</td>\n",
       "      <td>4.771429</td>\n",
       "      <td>5.500000</td>\n",
       "      <td>5.25000</td>\n",
       "      <td>5.462241</td>\n",
       "    </tr>\n",
       "    <tr>\n",
       "      <th>15506</th>\n",
       "      <td>-2005.0</td>\n",
       "      <td>6.0</td>\n",
       "      <td>6.100000</td>\n",
       "      <td>6.434510</td>\n",
       "      <td>6.529738</td>\n",
       "      <td>6.00000</td>\n",
       "      <td>5.130084</td>\n",
       "    </tr>\n",
       "    <tr>\n",
       "      <th>15507</th>\n",
       "      <td>-1988.0</td>\n",
       "      <td>6.0</td>\n",
       "      <td>6.665138</td>\n",
       "      <td>6.434510</td>\n",
       "      <td>6.529738</td>\n",
       "      <td>6.81250</td>\n",
       "      <td>5.130084</td>\n",
       "    </tr>\n",
       "    <tr>\n",
       "      <th>15508</th>\n",
       "      <td>-1998.0</td>\n",
       "      <td>6.2</td>\n",
       "      <td>5.655263</td>\n",
       "      <td>5.441667</td>\n",
       "      <td>4.633333</td>\n",
       "      <td>4.33125</td>\n",
       "      <td>5.462241</td>\n",
       "    </tr>\n",
       "  </tbody>\n",
       "</table>\n",
       "<p>13838 rows × 7 columns</p>\n",
       "</div>"
      ],
      "text/plain": [
       "         Year  Name_mean_rating  Actor_1_rating  Actor_2_rating  \\\n",
       "0     -1993.0               6.0        6.100000        5.187500   \n",
       "1     -2019.0               7.0        6.850000        7.000000   \n",
       "2     -2021.0               6.0        7.000000        7.350000   \n",
       "3     -2019.0               4.4        5.420000        4.400000   \n",
       "4     -2010.0               6.0        7.000000        5.742857   \n",
       "...       ...               ...             ...             ...   \n",
       "15504 -1988.0               4.6        6.079070        3.700000   \n",
       "15505 -1999.0               4.5        5.485333        4.771429   \n",
       "15506 -2005.0               6.0        6.100000        6.434510   \n",
       "15507 -1988.0               6.0        6.665138        6.434510   \n",
       "15508 -1998.0               6.2        5.655263        5.441667   \n",
       "\n",
       "       Actor_3_rating  director_rating  genre_rating  \n",
       "0            6.266667          5.70000      6.348960  \n",
       "1            7.000000          7.00000      6.348960  \n",
       "2            6.266667          6.00000      6.442857  \n",
       "3            4.450000          4.40000      5.707895  \n",
       "4            5.400000          6.30000      6.348960  \n",
       "...               ...              ...           ...  \n",
       "15504        4.600000          4.07500      5.130084  \n",
       "15505        5.500000          5.25000      5.462241  \n",
       "15506        6.529738          6.00000      5.130084  \n",
       "15507        6.529738          6.81250      5.130084  \n",
       "15508        4.633333          4.33125      5.462241  \n",
       "\n",
       "[13838 rows x 7 columns]"
      ]
     },
     "execution_count": 35,
     "metadata": {},
     "output_type": "execute_result"
    }
   ],
   "source": [
    "x"
   ]
  },
  {
   "cell_type": "code",
   "execution_count": 36,
   "id": "22478576",
   "metadata": {},
   "outputs": [
    {
     "data": {
      "text/plain": [
       "0        6.0\n",
       "1        7.0\n",
       "2        6.0\n",
       "3        4.4\n",
       "4        6.0\n",
       "        ... \n",
       "15504    4.6\n",
       "15505    4.5\n",
       "15506    6.0\n",
       "15507    6.0\n",
       "15508    6.2\n",
       "Name: Rating, Length: 13838, dtype: float64"
      ]
     },
     "execution_count": 36,
     "metadata": {},
     "output_type": "execute_result"
    }
   ],
   "source": [
    "y"
   ]
  },
  {
   "cell_type": "markdown",
   "id": "fa44fc43",
   "metadata": {},
   "source": [
    "## Feature scaling"
   ]
  },
  {
   "cell_type": "code",
   "execution_count": 37,
   "id": "00251a38",
   "metadata": {},
   "outputs": [],
   "source": [
    "from sklearn.preprocessing import StandardScaler\n",
    "sc=StandardScaler()\n",
    "x_sc=sc.fit_transform(x)"
   ]
  },
  {
   "cell_type": "code",
   "execution_count": 38,
   "id": "23ecfd2f",
   "metadata": {},
   "outputs": [
    {
     "data": {
      "text/plain": [
       "array([[-0.17975118,  0.07578519,  0.12868784, ...,  0.25724801,\n",
       "        -0.2276083 ,  0.73298062],\n",
       "       [-1.22952422,  1.07399147,  0.95853162, ...,  1.08050706,\n",
       "         1.13558305,  0.73298062],\n",
       "       [-1.310276  ,  0.07578519,  1.12450037, ...,  0.25724801,\n",
       "         0.08697432,  0.88400375],\n",
       "       ...,\n",
       "       [-0.66426182,  0.07578519,  0.12868784, ...,  0.55257828,\n",
       "         0.08697432, -1.22744997],\n",
       "       [ 0.02212825,  0.07578519,  0.75398908, ...,  0.55257828,\n",
       "         0.93896891, -1.22744997],\n",
       "       [-0.38163061,  0.27542645, -0.36339496, ..., -1.57637444,\n",
       "        -1.66289151, -0.69321135]])"
      ]
     },
     "execution_count": 38,
     "metadata": {},
     "output_type": "execute_result"
    }
   ],
   "source": [
    "x_sc"
   ]
  },
  {
   "cell_type": "code",
   "execution_count": 39,
   "id": "e82b560b",
   "metadata": {},
   "outputs": [
    {
     "data": {
      "image/png": "[encoded data removed]",
      "text/plain": [
       "<Figure size 2000x1500 with 2 Axes>"
      ]
     },
     "metadata": {},
     "output_type": "display_data"
    }
   ],
   "source": [
    "plt.figure(figsize=(20,15))\n",
    "corr = df.corr()\n",
    "sns.heatmap(corr, annot=True, cmap='YlGnBu')\n",
    "plt.show()"
   ]
  },
  {
   "cell_type": "markdown",
   "id": "14e6237d",
   "metadata": {},
   "source": [
    "- We can observe there's no multicollinearity b/w independented variables"
   ]
  },
  {
   "cell_type": "markdown",
   "id": "ad778edf",
   "metadata": {},
   "source": [
    "## Split data into train and test"
   ]
  },
  {
   "cell_type": "code",
   "execution_count": 40,
   "id": "bf777223",
   "metadata": {},
   "outputs": [],
   "source": [
    "from sklearn.model_selection import train_test_split\n",
    "x_train, x_test, y_train, y_test = train_test_split(x,y,test_size=0.25,random_state=101)"
   ]
  },
  {
   "cell_type": "markdown",
   "id": "2d1d8c02",
   "metadata": {},
   "source": [
    "## Model Building"
   ]
  },
  {
   "cell_type": "code",
   "execution_count": 41,
   "id": "ebc7030e",
   "metadata": {},
   "outputs": [],
   "source": [
    "from sklearn.linear_model import LinearRegression\n",
    "from sklearn.tree import DecisionTreeRegressor,plot_tree\n",
    "from sklearn.ensemble import BaggingRegressor\n",
    "from sklearn.ensemble import RandomForestRegressor\n",
    "from sklearn.ensemble import GradientBoostingRegressor\n",
    "from xgboost import XGBRegressor\n",
    "from sklearn.neighbors import KNeighborsRegressor\n",
    "from sklearn.svm import SVR\n",
    "from sklearn.model_selection import cross_val_score"
   ]
  },
  {
   "cell_type": "code",
   "execution_count": 42,
   "id": "f53df047",
   "metadata": {},
   "outputs": [],
   "source": [
    "#linear\n",
    "linear=LinearRegression()"
   ]
  },
  {
   "cell_type": "code",
   "execution_count": 43,
   "id": "78e3ca77",
   "metadata": {},
   "outputs": [],
   "source": [
    "#DecisionTree\n",
    "dtree=DecisionTreeRegressor()"
   ]
  },
  {
   "cell_type": "code",
   "execution_count": 44,
   "id": "98527257",
   "metadata": {},
   "outputs": [],
   "source": [
    "#Bagging\n",
    "bagg=BaggingRegressor()"
   ]
  },
  {
   "cell_type": "code",
   "execution_count": 45,
   "id": "30e1b39a",
   "metadata": {},
   "outputs": [],
   "source": [
    "#Randomforest\n",
    "rf=RandomForestRegressor()"
   ]
  },
  {
   "cell_type": "code",
   "execution_count": 46,
   "id": "b4b9b820",
   "metadata": {},
   "outputs": [],
   "source": [
    "#Boosting\n",
    "gdb=GradientBoostingRegressor()\n",
    "xgb=XGBRegressor()"
   ]
  },
  {
   "cell_type": "code",
   "execution_count": 47,
   "id": "da5576ee",
   "metadata": {},
   "outputs": [],
   "source": [
    "#K nearest neighbor\n",
    "knn=KNeighborsRegressor()"
   ]
  },
  {
   "cell_type": "code",
   "execution_count": 48,
   "id": "0fed932c",
   "metadata": {},
   "outputs": [],
   "source": [
    "#SVM\n",
    "svm=SVR()"
   ]
  },
  {
   "cell_type": "code",
   "execution_count": 49,
   "id": "f3b5b21a",
   "metadata": {},
   "outputs": [],
   "source": [
    "list1=[(linear,'linear',1),(dtree,'decisiontree',2),(bagg,'bagging',3),(rf,'randomforest',4),(gdb,'GradientBoost',5),(xgb,'XGBoost',6),(knn,'KNN',7),(svm,'SVM',8)]"
   ]
  },
  {
   "cell_type": "code",
   "execution_count": 50,
   "id": "b0b398c7",
   "metadata": {},
   "outputs": [
    {
     "name": "stdout",
     "output_type": "stream",
     "text": [
      "===================================================================\n",
      "Cross validation of linear\n",
      "Train accuracy: 1.0\n",
      "Test accuracy: 1.0\n",
      "varience: 0.0\n",
      "===================================================================\n",
      "Cross validation of decisiontree\n",
      "Train accuracy: 0.9999250254099564\n",
      "Test accuracy: 0.9998336798708145\n",
      "varience: 9.134553914191823e-05\n",
      "===================================================================\n",
      "Cross validation of bagging\n",
      "Train accuracy: 0.9999406527217385\n",
      "Test accuracy: 0.9998291564531101\n",
      "varience: 0.00011149626862838602\n",
      "===================================================================\n",
      "Cross validation of randomforest\n",
      "Train accuracy: 0.9999425479661171\n",
      "Test accuracy: 0.9998190461020293\n",
      "varience: 0.00012350186408782715\n",
      "===================================================================\n",
      "Cross validation of GradientBoost\n",
      "Train accuracy: 0.9999662448927424\n",
      "Test accuracy: 0.9998766732445896\n",
      "varience: 8.95716481528197e-05\n",
      "===================================================================\n",
      "Cross validation of XGBoost\n",
      "Train accuracy: 0.9999621028200648\n",
      "Test accuracy: 0.999907324554492\n",
      "varience: 5.477826557276355e-05\n",
      "===================================================================\n",
      "Cross validation of KNN\n",
      "Train accuracy: 0.9254762544718839\n",
      "Test accuracy: 0.8783002907773083\n",
      "varience: 0.04717596369457555\n",
      "===================================================================\n",
      "Cross validation of SVM\n",
      "Train accuracy: 0.01988796958505056\n",
      "Test accuracy: 0.00784451134294405\n",
      "varience: 0.012043458242106508\n"
     ]
    }
   ],
   "source": [
    "for model,model_name,i in list1:\n",
    "    model.fit(x_train,y_train)\n",
    "    y_pred_train=model.predict(x_train)\n",
    "    y_pred_test=model.predict(x_test)\n",
    "    print('===================================================================')\n",
    "    print(f'Cross validation of {model_name}')\n",
    "    Train_acc=cross_val_score(model,x_train,y_train,cv=10).mean()\n",
    "    Test_acc=cross_val_score(model,x_test,y_test,cv=10).mean()\n",
    "    varience=abs(Train_acc-Test_acc)\n",
    "    print('Train accuracy:',Train_acc)\n",
    "    print('Test accuracy:',Test_acc)\n",
    "    print('varience:',varience)\n",
    "    if varience>10 :\n",
    "        print(f'Overfitting {model_name}')"
   ]
  },
  {
   "cell_type": "code",
   "execution_count": 51,
   "id": "72570b3d",
   "metadata": {},
   "outputs": [
    {
     "data": {
      "text/html": [
       "<table class=\"simpletable\">\n",
       "<caption>OLS Regression Results</caption>\n",
       "<tr>\n",
       "  <th>Dep. Variable:</th>         <td>Rating</td>      <th>  R-squared (uncentered):</th>       <td>   1.000</td> \n",
       "</tr>\n",
       "<tr>\n",
       "  <th>Model:</th>                   <td>OLS</td>       <th>  Adj. R-squared (uncentered):</th>  <td>   1.000</td> \n",
       "</tr>\n",
       "<tr>\n",
       "  <th>Method:</th>             <td>Least Squares</td>  <th>  F-statistic:       </th>           <td>8.800e+26</td>\n",
       "</tr>\n",
       "<tr>\n",
       "  <th>Date:</th>             <td>Sat, 04 Nov 2023</td> <th>  Prob (F-statistic):</th>            <td>  0.00</td>  \n",
       "</tr>\n",
       "<tr>\n",
       "  <th>Time:</th>                 <td>21:07:15</td>     <th>  Log-Likelihood:    </th>           <td>  85497.</td> \n",
       "</tr>\n",
       "<tr>\n",
       "  <th>No. Observations:</th>      <td>  3460</td>      <th>  AIC:               </th>          <td>-1.710e+05</td>\n",
       "</tr>\n",
       "<tr>\n",
       "  <th>Df Residuals:</th>          <td>  3453</td>      <th>  BIC:               </th>          <td>-1.709e+05</td>\n",
       "</tr>\n",
       "<tr>\n",
       "  <th>Df Model:</th>              <td>     7</td>      <th>                     </th>               <td> </td>    \n",
       "</tr>\n",
       "<tr>\n",
       "  <th>Covariance Type:</th>      <td>nonrobust</td>    <th>                     </th>               <td> </td>    \n",
       "</tr>\n",
       "</table>\n",
       "<table class=\"simpletable\">\n",
       "<tr>\n",
       "          <td></td>            <th>coef</th>     <th>std err</th>      <th>t</th>      <th>P>|t|</th>  <th>[0.025</th>    <th>0.975]</th>  \n",
       "</tr>\n",
       "<tr>\n",
       "  <th>Year</th>             <td>-2.237e-15</td> <td> 4.06e-16</td> <td>   -5.515</td> <td> 0.000</td> <td>-3.03e-15</td> <td>-1.44e-15</td>\n",
       "</tr>\n",
       "<tr>\n",
       "  <th>Name_mean_rating</th> <td>    1.0000</td> <td> 1.24e-13</td> <td> 8.08e+12</td> <td> 0.000</td> <td>    1.000</td> <td>    1.000</td>\n",
       "</tr>\n",
       "<tr>\n",
       "  <th>Actor_1_rating</th>   <td> 9.992e-16</td> <td> 1.18e-13</td> <td>    0.008</td> <td> 0.993</td> <td> -2.3e-13</td> <td> 2.32e-13</td>\n",
       "</tr>\n",
       "<tr>\n",
       "  <th>Actor_2_rating</th>   <td> 4.857e-16</td> <td> 1.23e-13</td> <td>    0.004</td> <td> 0.997</td> <td>-2.41e-13</td> <td> 2.42e-13</td>\n",
       "</tr>\n",
       "<tr>\n",
       "  <th>Actor_3_rating</th>   <td> 6.939e-16</td> <td> 1.16e-13</td> <td>    0.006</td> <td> 0.995</td> <td>-2.27e-13</td> <td> 2.28e-13</td>\n",
       "</tr>\n",
       "<tr>\n",
       "  <th>director_rating</th>  <td> 1.003e-15</td> <td> 1.14e-13</td> <td>    0.009</td> <td> 0.993</td> <td>-2.23e-13</td> <td> 2.25e-13</td>\n",
       "</tr>\n",
       "<tr>\n",
       "  <th>genre_rating</th>     <td> 6.349e-16</td> <td> 1.31e-13</td> <td>    0.005</td> <td> 0.996</td> <td>-2.56e-13</td> <td> 2.57e-13</td>\n",
       "</tr>\n",
       "</table>\n",
       "<table class=\"simpletable\">\n",
       "<tr>\n",
       "  <th>Omnibus:</th>       <td>271.175</td> <th>  Durbin-Watson:     </th> <td>   0.000</td>\n",
       "</tr>\n",
       "<tr>\n",
       "  <th>Prob(Omnibus):</th> <td> 0.000</td>  <th>  Jarque-Bera (JB):  </th> <td> 251.604</td>\n",
       "</tr>\n",
       "<tr>\n",
       "  <th>Skew:</th>          <td> 0.596</td>  <th>  Prob(JB):          </th> <td>2.32e-55</td>\n",
       "</tr>\n",
       "<tr>\n",
       "  <th>Kurtosis:</th>      <td> 2.432</td>  <th>  Cond. No.          </th> <td>3.74e+03</td>\n",
       "</tr>\n",
       "</table><br/><br/>Notes:<br/>[1] R² is computed without centering (uncentered) since the model does not contain a constant.<br/>[2] Standard Errors assume that the covariance matrix of the errors is correctly specified.<br/>[3] The condition number is large, 3.74e+03. This might indicate that there are<br/>strong multicollinearity or other numerical problems."
      ],
      "text/plain": [
       "<class 'statsmodels.iolib.summary.Summary'>\n",
       "\"\"\"\n",
       "                                 OLS Regression Results                                \n",
       "=======================================================================================\n",
       "Dep. Variable:                 Rating   R-squared (uncentered):                   1.000\n",
       "Model:                            OLS   Adj. R-squared (uncentered):              1.000\n",
       "Method:                 Least Squares   F-statistic:                          8.800e+26\n",
       "Date:                Sat, 04 Nov 2023   Prob (F-statistic):                        0.00\n",
       "Time:                        21:07:15   Log-Likelihood:                          85497.\n",
       "No. Observations:                3460   AIC:                                 -1.710e+05\n",
       "Df Residuals:                    3453   BIC:                                 -1.709e+05\n",
       "Df Model:                           7                                                  \n",
       "Covariance Type:            nonrobust                                                  \n",
       "====================================================================================\n",
       "                       coef    std err          t      P>|t|      [0.025      0.975]\n",
       "------------------------------------------------------------------------------------\n",
       "Year             -2.237e-15   4.06e-16     -5.515      0.000   -3.03e-15   -1.44e-15\n",
       "Name_mean_rating     1.0000   1.24e-13   8.08e+12      0.000       1.000       1.000\n",
       "Actor_1_rating    9.992e-16   1.18e-13      0.008      0.993    -2.3e-13    2.32e-13\n",
       "Actor_2_rating    4.857e-16   1.23e-13      0.004      0.997   -2.41e-13    2.42e-13\n",
       "Actor_3_rating    6.939e-16   1.16e-13      0.006      0.995   -2.27e-13    2.28e-13\n",
       "director_rating   1.003e-15   1.14e-13      0.009      0.993   -2.23e-13    2.25e-13\n",
       "genre_rating      6.349e-16   1.31e-13      0.005      0.996   -2.56e-13    2.57e-13\n",
       "==============================================================================\n",
       "Omnibus:                      271.175   Durbin-Watson:                   0.000\n",
       "Prob(Omnibus):                  0.000   Jarque-Bera (JB):              251.604\n",
       "Skew:                           0.596   Prob(JB):                     2.32e-55\n",
       "Kurtosis:                       2.432   Cond. No.                     3.74e+03\n",
       "==============================================================================\n",
       "\n",
       "Notes:\n",
       "[1] R² is computed without centering (uncentered) since the model does not contain a constant.\n",
       "[2] Standard Errors assume that the covariance matrix of the errors is correctly specified.\n",
       "[3] The condition number is large, 3.74e+03. This might indicate that there are\n",
       "strong multicollinearity or other numerical problems.\n",
       "\"\"\""
      ]
     },
     "execution_count": 51,
     "metadata": {},
     "output_type": "execute_result"
    }
   ],
   "source": [
    "from statsmodels.regression.linear_model import OLS\n",
    "import statsmodels.regression.linear_model as smf\n",
    "reg_model = smf.OLS(endog = y_test, exog=x_test).fit()\n",
    "reg_model.summary()"
   ]
  },
  {
   "cell_type": "code",
   "execution_count": 52,
   "id": "fe508ac8",
   "metadata": {},
   "outputs": [],
   "source": [
    "from sklearn.metrics import r2_score"
   ]
  },
  {
   "cell_type": "code",
   "execution_count": 62,
   "id": "b3a2884b",
   "metadata": {},
   "outputs": [],
   "source": [
    "acc_list=[]\n",
    "for model,model_name,i in list1:\n",
    "    model.fit(x_train,y_train)\n",
    "    y_pred_train=model.predict(x_train)\n",
    "    y_pred_test=model.predict(x_test)\n",
    "    test_acc=r2_score(y_test,y_pred_test)\n",
    "    acc_list.append(test_acc)"
   ]
  },
  {
   "cell_type": "code",
   "execution_count": 63,
   "id": "3c7da7b5",
   "metadata": {},
   "outputs": [],
   "source": [
    "model=['linear','decisiontree','bagging','randomforest','GradientBoost','XGBoost','KNN','SVM']"
   ]
  },
  {
   "cell_type": "code",
   "execution_count": 64,
   "id": "c3d3626f",
   "metadata": {},
   "outputs": [],
   "source": [
    "metrics_df=pd.DataFrame({'model_name':model,'Accuracy':acc_list})"
   ]
  },
  {
   "cell_type": "code",
   "execution_count": 65,
   "id": "17bbba37",
   "metadata": {},
   "outputs": [
    {
     "data": {
      "text/html": [
       "<div>\n",
       "<style scoped>\n",
       "    .dataframe tbody tr th:only-of-type {\n",
       "        vertical-align: middle;\n",
       "    }\n",
       "\n",
       "    .dataframe tbody tr th {\n",
       "        vertical-align: top;\n",
       "    }\n",
       "\n",
       "    .dataframe thead th {\n",
       "        text-align: right;\n",
       "    }\n",
       "</style>\n",
       "<table border=\"1\" class=\"dataframe\">\n",
       "  <thead>\n",
       "    <tr style=\"text-align: right;\">\n",
       "      <th></th>\n",
       "      <th>model_name</th>\n",
       "      <th>Accuracy</th>\n",
       "    </tr>\n",
       "  </thead>\n",
       "  <tbody>\n",
       "    <tr>\n",
       "      <th>0</th>\n",
       "      <td>linear</td>\n",
       "      <td>1.000000</td>\n",
       "    </tr>\n",
       "    <tr>\n",
       "      <th>1</th>\n",
       "      <td>decisiontree</td>\n",
       "      <td>0.999986</td>\n",
       "    </tr>\n",
       "    <tr>\n",
       "      <th>2</th>\n",
       "      <td>bagging</td>\n",
       "      <td>0.999948</td>\n",
       "    </tr>\n",
       "    <tr>\n",
       "      <th>3</th>\n",
       "      <td>randomforest</td>\n",
       "      <td>0.999980</td>\n",
       "    </tr>\n",
       "    <tr>\n",
       "      <th>4</th>\n",
       "      <td>GradientBoost</td>\n",
       "      <td>0.999987</td>\n",
       "    </tr>\n",
       "    <tr>\n",
       "      <th>5</th>\n",
       "      <td>XGBoost</td>\n",
       "      <td>0.999987</td>\n",
       "    </tr>\n",
       "    <tr>\n",
       "      <th>6</th>\n",
       "      <td>KNN</td>\n",
       "      <td>0.923332</td>\n",
       "    </tr>\n",
       "    <tr>\n",
       "      <th>7</th>\n",
       "      <td>SVM</td>\n",
       "      <td>0.021932</td>\n",
       "    </tr>\n",
       "  </tbody>\n",
       "</table>\n",
       "</div>"
      ],
      "text/plain": [
       "      model_name  Accuracy\n",
       "0         linear  1.000000\n",
       "1   decisiontree  0.999986\n",
       "2        bagging  0.999948\n",
       "3   randomforest  0.999980\n",
       "4  GradientBoost  0.999987\n",
       "5        XGBoost  0.999987\n",
       "6            KNN  0.923332\n",
       "7            SVM  0.021932"
      ]
     },
     "execution_count": 65,
     "metadata": {},
     "output_type": "execute_result"
    }
   ],
   "source": [
    "metrics_df"
   ]
  },
  {
   "cell_type": "code",
   "execution_count": 66,
   "id": "b5ab8a6f",
   "metadata": {},
   "outputs": [
    {
     "data": {
      "image/png": "[encoded data removed]",
      "text/plain": [
       "<Figure size 1200x1200 with 1 Axes>"
      ]
     },
     "metadata": {},
     "output_type": "display_data"
    }
   ],
   "source": [
    "plt.figure(figsize=(12,12))\n",
    "sns.barplot(x='model_name',y='Accuracy',data=metrics_df)\n",
    "plt.show()"
   ]
  },
  {
   "cell_type": "markdown",
   "id": "9348855c",
   "metadata": {},
   "source": [
    "## 🎯Summary:"
   ]
  },
  {
   "cell_type": "markdown",
   "id": "983f32e1",
   "metadata": {},
   "source": [
    "### We can observe that all models predicted and gave best accuracy\n",
    "## BEST MODEL:LINEAR,DECISION TREE, BAGGING, RANDOM FOREST,GRADIENT BOOSTING,XGBOOST,KNN"
   ]
  },
  {
   "cell_type": "code",
   "execution_count": null,
   "id": "7b68f8e6",
   "metadata": {},
   "outputs": [],
   "source": []
  }
 ],
 "metadata": {
  "kernelspec": {
   "display_name": "Python 3 (ipykernel)",
   "language": "python",
   "name": "python3"
  },
  "language_info": {
   "codemirror_mode": {
    "name": "ipython",
    "version": 3
   },
   "file_extension": ".py",
   "mimetype": "text/x-python",
   "name": "python",
   "nbconvert_exporter": "python",
   "pygments_lexer": "ipython3",
   "version": "3.9.13"
  }
 },
 "nbformat": 4,
 "nbformat_minor": 5
}
